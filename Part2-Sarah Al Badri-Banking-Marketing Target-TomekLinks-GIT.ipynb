{
 "cells": [
  {
   "cell_type": "code",
   "execution_count": 1,
   "id": "eastern-player",
   "metadata": {},
   "outputs": [],
   "source": [
    "import pandas as pd\n",
    "import numpy as np\n",
    "import seaborn as sns\n",
    "import matplotlib.pyplot as plt\n",
    "from scipy import stats\n",
    "from statsmodels.graphics.gofplots import qqplot\n",
    "from sklearn.model_selection import train_test_split\n",
    "from sklearn.metrics import accuracy_score, precision_score, recall_score, roc_auc_score,f1_score, make_scorer\n",
    "from time import time\n",
    "import warnings\n",
    "warnings.simplefilter(action='ignore', category=FutureWarning)\n",
    "import joblib\n",
    "from sklearn.model_selection import GridSearchCV\n",
    "from sklearn.linear_model import LogisticRegression\n",
    "from sklearn.svm import SVC\n",
    "from sklearn.tree import DecisionTreeClassifier\n",
    "from sklearn.ensemble import HistGradientBoostingClassifier\n",
    "from sklearn.ensemble import RandomForestClassifier\n",
    "from sklearn.ensemble import VotingClassifier\n",
    "from sklearn.naive_bayes import GaussianNB"
   ]
  },
  {
   "cell_type": "markdown",
   "id": "a894f936",
   "metadata": {},
   "source": [
    "# TomekLinks"
   ]
  },
  {
   "cell_type": "markdown",
   "id": "d695b703",
   "metadata": {},
   "source": [
    "# <font color =green> Logistic Regression</font>"
   ]
  },
  {
   "cell_type": "code",
   "execution_count": null,
   "id": "89dd9e12",
   "metadata": {},
   "outputs": [],
   "source": [
    "LogisticRegression().get_params()"
   ]
  },
  {
   "cell_type": "markdown",
   "id": "2ce875cf",
   "metadata": {},
   "source": [
    "# Original Features"
   ]
  },
  {
   "cell_type": "code",
   "execution_count": 3,
   "id": "7b606b61",
   "metadata": {},
   "outputs": [],
   "source": [
    "train_features_tl_original_features= pd.read_csv(\".../.../.../.../train_features_tl_original_features.csv\")\n",
    "train_labels_tl= pd.read_csv(\".../.../.../.../train_labels_tl.csv\")"
   ]
  },
  {
   "cell_type": "code",
   "execution_count": 4,
   "id": "04c08877",
   "metadata": {},
   "outputs": [
    {
     "name": "stdout",
     "output_type": "stream",
     "text": [
      "Index(['age', 'job', 'marital', 'education', 'default', 'balance', 'housing',\n",
      "       'loan', 'contact', 'day', 'month', 'duration', 'campaign', 'pdays',\n",
      "       'previous'],\n",
      "      dtype='object')\n",
      " Data distribution: \n",
      "y\n",
      "0    25310\n",
      "1     4513\n",
      "dtype: int64\n",
      "\n"
     ]
    },
    {
     "data": {
      "text/plain": [
       "<AxesSubplot:xlabel='y', ylabel='count'>"
      ]
     },
     "execution_count": 4,
     "metadata": {},
     "output_type": "execute_result"
    },
    {
     "data": {
      "image/png": "[encoded data removed]",
      "text/plain": [
       "<Figure size 432x288 with 1 Axes>"
      ]
     },
     "metadata": {
      "needs_background": "light"
     },
     "output_type": "display_data"
    }
   ],
   "source": [
    "print(train_features_tl_original_features.columns)\n",
    "print(f' Data distribution: \\n{train_labels_tl.value_counts()}\\n')\n",
    "sns.countplot(train_labels_tl['y'])"
   ]
  },
  {
   "cell_type": "code",
   "execution_count": null,
   "id": "d7eb5d3c",
   "metadata": {
    "scrolled": true
   },
   "outputs": [],
   "source": [
    "lR= LogisticRegression()\n",
    "\n",
    "scoring ={\"F1\":\"f1\", \"AUC\":make_scorer(roc_auc_score)}\n",
    "parameters={\n",
    "    'penalty':['l1','l2'],# none: no penalty. l1 or l2: adding l1 or l2(default). elasticnet: adding both penalty l1 and l2\n",
    "    'tol':[0.01,0.001,0.0001,0.00001], #tol: tolerance for stopping criteria\n",
    "    'solver':['saga'],# solver: algorithm to use in optimization problem, default:lbfgs and its only work with l2 or none penalty. \n",
    "    # choice of algorithm depends on penalty saga: elastiicnet, li, l2, and none\n",
    "    'max_iter':[300,400,500,600,700,1000]# max number of iteration needed for the solver to converge\n",
    "    \n",
    "}\n",
    "cv=GridSearchCV(lR, parameters, cv=5, verbose=3,error_score='raise', scoring=scoring,refit=\"AUC\")\n",
    "cv.fit(train_features_tl_original_features,train_labels_tl.values.ravel())#ravel to convert to array gets error otherwise"
   ]
  },
  {
   "cell_type": "code",
   "execution_count": 6,
   "id": "e38a6dbb",
   "metadata": {},
   "outputs": [
    {
     "data": {
      "text/plain": [
       "LogisticRegression(max_iter=700, solver='saga', tol=0.001)"
      ]
     },
     "execution_count": 6,
     "metadata": {},
     "output_type": "execute_result"
    }
   ],
   "source": [
    "cv.best_estimator_"
   ]
  },
  {
   "cell_type": "code",
   "execution_count": 7,
   "id": "f6906e0d",
   "metadata": {},
   "outputs": [
    {
     "data": {
      "text/plain": [
       "0.6084225166659812"
      ]
     },
     "execution_count": 7,
     "metadata": {},
     "output_type": "execute_result"
    }
   ],
   "source": [
    "cv.best_score_"
   ]
  },
  {
   "cell_type": "code",
   "execution_count": 8,
   "id": "d1dce17c",
   "metadata": {},
   "outputs": [
    {
     "data": {
      "text/plain": [
       "['/Users/sarahalbadri/Desktop/Banking Dataset/partitioned dataset/TomekLinks/models/mdl1_train_features_tl_original_features_LR.pkl']"
      ]
     },
     "execution_count": 8,
     "metadata": {},
     "output_type": "execute_result"
    }
   ],
   "source": [
    "# write our pickled model\n",
    "joblib.dump(cv.best_estimator_,'.../.../.../.../mdl1_train_features_tl_original_features_LR.pkl')"
   ]
  },
  {
   "cell_type": "markdown",
   "id": "cc3d4a55",
   "metadata": {},
   "source": [
    "# Original Reduced"
   ]
  },
  {
   "cell_type": "code",
   "execution_count": 9,
   "id": "75db06f2",
   "metadata": {},
   "outputs": [],
   "source": [
    "# Original Reduced\n",
    "train_features_tl_original_reduced= pd.read_csv(\" .../.../.../.../train_features_tl_original_reduced.csv\")\n",
    "\n",
    "train_labels_tl= pd.read_csv(\".../.../.../.../TomekLinks/train_labels_tl.csv\")\n",
    "\n",
    "\n"
   ]
  },
  {
   "cell_type": "code",
   "execution_count": null,
   "id": "2a8ad404",
   "metadata": {
    "scrolled": true
   },
   "outputs": [],
   "source": [
    "lR= LogisticRegression()\n",
    "scoring ={\"F1\":\"f1\", \"AUC\":make_scorer(roc_auc_score)}\n",
    "parameters={\n",
    "    'penalty':['l1','l2'],# none: no penalty. l1 or l2: adding l1 or l2(default). elasticnet: adding both penalty l1 and l2\n",
    "    'tol':[0.01,0.001,0.0001,0.00001], #tol: tolerance for stopping criteria\n",
    "    'solver':['saga'],# solver: algorithm to use in optimization problem, default:lbfgs and its only work with l2 or none penalty. \n",
    "    # choice of algorithm depends on penalty saga: elastiicnet, li, l2, and none\n",
    "    'max_iter':[300,400,500,600,700,1000]# max number of iteration needed for the solver to converge\n",
    "    \n",
    "}\n",
    "cv=GridSearchCV(lR, parameters, cv=5, verbose=3,error_score='raise', scoring=scoring,refit=\"AUC\")\n",
    "cv.fit(train_features_tl_original_reduced,train_labels_tl.values.ravel())#ravel to convert to array gets error otherwise"
   ]
  },
  {
   "cell_type": "code",
   "execution_count": 11,
   "id": "9598675c",
   "metadata": {},
   "outputs": [
    {
     "data": {
      "text/plain": [
       "LogisticRegression(max_iter=700, solver='saga', tol=0.001)"
      ]
     },
     "execution_count": 11,
     "metadata": {},
     "output_type": "execute_result"
    }
   ],
   "source": [
    "cv.best_estimator_"
   ]
  },
  {
   "cell_type": "code",
   "execution_count": 12,
   "id": "33911d97",
   "metadata": {},
   "outputs": [
    {
     "data": {
      "text/plain": [
       "0.6003537907369532"
      ]
     },
     "execution_count": 12,
     "metadata": {},
     "output_type": "execute_result"
    }
   ],
   "source": [
    "cv.best_score_"
   ]
  },
  {
   "cell_type": "code",
   "execution_count": 13,
   "id": "768bf7a4",
   "metadata": {},
   "outputs": [
    {
     "data": {
      "text/plain": [
       "['/Users/sarahalbadri/Desktop/Banking Dataset/partitioned dataset/TomekLinks/models/mdl2_train_features_tl_original_reduced_LR.pkl']"
      ]
     },
     "execution_count": 13,
     "metadata": {},
     "output_type": "execute_result"
    }
   ],
   "source": [
    "# write our pickled model\n",
    "joblib.dump(cv.best_estimator_,'.../.../.../.../models/mdl2_train_features_tl_original_reduced_LR.pkl')"
   ]
  },
  {
   "cell_type": "markdown",
   "id": "7d174ec9",
   "metadata": {},
   "source": [
    "# Clean Capped Features"
   ]
  },
  {
   "cell_type": "code",
   "execution_count": 14,
   "id": "f17f912f",
   "metadata": {},
   "outputs": [],
   "source": [
    "# Clean Capped Features\n",
    "train_features_tl_clean_capped_features = pd.read_csv(\".../.../.../.../train_features_tl_clean_capped_features.csv\")\n",
    "\n",
    "train_labels_tl= pd.read_csv(\".../.../.../.../train_labels_tl.csv\")\n",
    "\n"
   ]
  },
  {
   "cell_type": "code",
   "execution_count": null,
   "id": "99002193",
   "metadata": {
    "scrolled": true
   },
   "outputs": [],
   "source": [
    "lR= LogisticRegression()\n",
    "scoring ={\"F1\":\"f1\", \"AUC\":make_scorer(roc_auc_score)}\n",
    "parameters={\n",
    "    'penalty':['l1','l2'],# none: no penalty. l1 or l2: adding l1 or l2(default). elasticnet: adding both penalty l1 and l2\n",
    "    'tol':[0.01,0.001,0.0001,0.00001], #tol: tolerance for stopping criteria\n",
    "    'solver':['saga'],# solver: algorithm to use in optimization problem, default:lbfgs and its only work with l2 or none penalty. \n",
    "    # choice of algorithm depends on penalty saga: elastiicnet, li, l2, and none\n",
    "    'max_iter':[300,400,500,600,700,1000]# max number of iteration needed for the solver to converge\n",
    "    \n",
    "}\n",
    "cv=GridSearchCV(lR, parameters, cv=5, verbose=3,error_score='raise',scoring=scoring,refit=\"AUC\")\n",
    "cv.fit(train_features_tl_clean_capped_features,train_labels_tl.values.ravel())#ravel to convert to array gets error otherwise"
   ]
  },
  {
   "cell_type": "code",
   "execution_count": 16,
   "id": "b00e01a2",
   "metadata": {},
   "outputs": [
    {
     "data": {
      "text/plain": [
       "LogisticRegression(max_iter=1000, penalty='l1', solver='saga', tol=0.01)"
      ]
     },
     "execution_count": 16,
     "metadata": {},
     "output_type": "execute_result"
    }
   ],
   "source": [
    "cv.best_estimator_"
   ]
  },
  {
   "cell_type": "code",
   "execution_count": 17,
   "id": "6f0eb3f7",
   "metadata": {},
   "outputs": [
    {
     "data": {
      "text/plain": [
       "0.6166258204381281"
      ]
     },
     "execution_count": 17,
     "metadata": {},
     "output_type": "execute_result"
    }
   ],
   "source": [
    "cv.best_score_"
   ]
  },
  {
   "cell_type": "code",
   "execution_count": 18,
   "id": "11be490b",
   "metadata": {},
   "outputs": [
    {
     "data": {
      "text/plain": [
       "['/Users/sarahalbadri/Desktop/Banking Dataset/partitioned dataset/TomekLinks/models/mdl3_train_features_tl_clean_capped_features_LR.pkl']"
      ]
     },
     "execution_count": 18,
     "metadata": {},
     "output_type": "execute_result"
    }
   ],
   "source": [
    "# write our pickled model\n",
    "joblib.dump(cv.best_estimator_,'.../.../.../.../mdl3_train_features_tl_clean_capped_features_LR.pkl')"
   ]
  },
  {
   "cell_type": "markdown",
   "id": "331d899a",
   "metadata": {},
   "source": [
    "# clean transformed features"
   ]
  },
  {
   "cell_type": "code",
   "execution_count": 22,
   "id": "c5ba355c",
   "metadata": {},
   "outputs": [],
   "source": [
    "# clean transformed features\n",
    "\n",
    "train_features_tl_clean_trans_features= pd.read_csv(\".../.../.../.../feature selection/train_features_tl_clean_trans_features.csv\")\n",
    "\n",
    "train_labels_tl= pd.read_csv(\".../.../.../.../TomekLinks/train_labels_tl.csv\")"
   ]
  },
  {
   "cell_type": "code",
   "execution_count": null,
   "id": "87098412",
   "metadata": {
    "scrolled": true
   },
   "outputs": [],
   "source": [
    "lR= LogisticRegression()\n",
    "scoring ={\"F1\":\"f1\", \"AUC\":make_scorer(roc_auc_score)}\n",
    "parameters={\n",
    "    'penalty':['l1','l2'],# l1 or l2: adding l1 or l2(default). \n",
    "    'tol':[0.01,0.001,0.0001,0.00001], #tol: tolerance for stopping criteria\n",
    "    'solver':['saga'],# solver: algorithm to use in optimization problem, default:lbfgs and its only work with l2 or none penalty. \n",
    "    # choice of algorithm depends on penalty saga: elastiicnet, li, l2, and none\n",
    "    'max_iter':[300,400,500,600,700,1000]# max number of iteration needed for the solver to converge\n",
    "    \n",
    "}\n",
    "cv=GridSearchCV(lR, parameters, cv=5, verbose=3,error_score='raise',scoring=scoring,refit=\"AUC\")\n",
    "cv.fit(train_features_tl_clean_trans_features,train_labels_tl.values.ravel())#ravel to convert to array gets error otherwise"
   ]
  },
  {
   "cell_type": "code",
   "execution_count": 24,
   "id": "1e5617e3",
   "metadata": {},
   "outputs": [
    {
     "data": {
      "text/plain": [
       "LogisticRegression(max_iter=1000, solver='saga', tol=0.001)"
      ]
     },
     "execution_count": 24,
     "metadata": {},
     "output_type": "execute_result"
    }
   ],
   "source": [
    "cv.best_estimator_"
   ]
  },
  {
   "cell_type": "code",
   "execution_count": 25,
   "id": "42de6045",
   "metadata": {},
   "outputs": [
    {
     "data": {
      "text/plain": [
       "0.6084225166659812"
      ]
     },
     "execution_count": 25,
     "metadata": {},
     "output_type": "execute_result"
    }
   ],
   "source": [
    "cv.best_score_"
   ]
  },
  {
   "cell_type": "code",
   "execution_count": 26,
   "id": "f7437415",
   "metadata": {},
   "outputs": [
    {
     "data": {
      "text/plain": [
       "['/Users/sarahalbadri/Desktop/Banking Dataset/partitioned dataset/TomekLinks/models/mdl4_train_features_tl_clean_trans_features_LR.pkl']"
      ]
     },
     "execution_count": 26,
     "metadata": {},
     "output_type": "execute_result"
    }
   ],
   "source": [
    "# write our pickled model\n",
    "joblib.dump(cv.best_estimator_,'.../.../.../.../TomekLinks/models/mdl4_train_features_tl_clean_trans_features_LR.pkl')"
   ]
  },
  {
   "cell_type": "markdown",
   "id": "1073cfda",
   "metadata": {},
   "source": [
    "# Clean Transformed Features Reduced "
   ]
  },
  {
   "cell_type": "code",
   "execution_count": 36,
   "id": "aca3f0a1",
   "metadata": {},
   "outputs": [],
   "source": [
    "# Clean Transformed Features Reduced\n",
    "train_features_tl_clean_trans_features_reduced = pd.read_csv(\".../.../.../.../TomekLinks/feature selection/train_features_tl_clean_trans_features_reduced.csv\")\n",
    "train_labels_tl= pd.read_csv(\".../.../.../.../train_labels_tl.csv\") \n"
   ]
  },
  {
   "cell_type": "code",
   "execution_count": null,
   "id": "f37763c0",
   "metadata": {
    "scrolled": true
   },
   "outputs": [],
   "source": [
    "lR= LogisticRegression()\n",
    "scoring ={\"F1\":\"f1\", \"AUC\":make_scorer(roc_auc_score)}\n",
    "parameters={\n",
    "    'penalty':['l1','l2'],# l1 or l2: adding l1 or l2(default). \n",
    "    'tol':[0.01,0.001,0.0001,0.00001], #tol: tolerance for stopping criteria\n",
    "    'solver':['saga'],# solver: algorithm to use in optimization problem, default:lbfgs and its only work with l2 or none penalty. \n",
    "    # choice of algorithm depends on penalty saga: elastiicnet, li, l2, and none\n",
    "    'max_iter':[300,400,500,600,700,1000]# max number of iteration needed for the solver to converge\n",
    "    \n",
    "}\n",
    "cv=GridSearchCV(lR, parameters, cv=5, verbose=3,error_score='raise',scoring=scoring,refit=\"AUC\")\n",
    "cv.fit(train_features_tl_clean_trans_features_reduced,train_labels_tl.values.ravel())#ravel to convert to array gets error otherwise"
   ]
  },
  {
   "cell_type": "code",
   "execution_count": 38,
   "id": "4b1ae1a7",
   "metadata": {},
   "outputs": [
    {
     "data": {
      "text/plain": [
       "LogisticRegression(max_iter=300, penalty='l1', solver='saga', tol=0.01)"
      ]
     },
     "execution_count": 38,
     "metadata": {},
     "output_type": "execute_result"
    }
   ],
   "source": [
    "cv.best_estimator_"
   ]
  },
  {
   "cell_type": "code",
   "execution_count": 39,
   "id": "272a2df2",
   "metadata": {},
   "outputs": [
    {
     "data": {
      "text/plain": [
       "0.5989306878020465"
      ]
     },
     "execution_count": 39,
     "metadata": {},
     "output_type": "execute_result"
    }
   ],
   "source": [
    "cv.best_score_"
   ]
  },
  {
   "cell_type": "code",
   "execution_count": 40,
   "id": "0b7c115a",
   "metadata": {},
   "outputs": [
    {
     "data": {
      "text/plain": [
       "['/Users/sarahalbadri/Desktop/Banking Dataset/partitioned dataset/TomekLinks/models/mdl5_train_features_tl_clean_trans_features_reduced_LR.pkl']"
      ]
     },
     "execution_count": 40,
     "metadata": {},
     "output_type": "execute_result"
    }
   ],
   "source": [
    "# write our pickled model\n",
    "joblib.dump(cv.best_estimator_,'.../.../.../.../models/mdl5_train_features_tl_clean_trans_features_reduced_LR.pkl')"
   ]
  },
  {
   "cell_type": "markdown",
   "id": "820df494",
   "metadata": {},
   "source": [
    "# Clean Capped Transformed Features"
   ]
  },
  {
   "cell_type": "code",
   "execution_count": 32,
   "id": "b510509f",
   "metadata": {},
   "outputs": [],
   "source": [
    "# Clean Capped Transformed Features\n",
    "train_features_tl_clean_cap_tran_features= pd.read_csv(\".../.../.../.../feature selection/train_features_tl_clean_cap_tran_features.csv\")\n",
    "train_labels_tl= pd.read_csv(\".../.../.../.../TomekLinks/train_labels_tl.csv\")"
   ]
  },
  {
   "cell_type": "code",
   "execution_count": null,
   "id": "f23323c1",
   "metadata": {
    "scrolled": true
   },
   "outputs": [],
   "source": [
    "lR= LogisticRegression()\n",
    "scoring ={\"F1\":\"f1\", \"AUC\":make_scorer(roc_auc_score)}\n",
    "parameters={\n",
    "    'penalty':['l1','l2'],# l1 or l2: adding l1 or l2(default). \n",
    "    'tol':[0.01,0.001,0.0001,0.00001], #tol: tolerance for stopping criteria\n",
    "    'solver':['saga'],# solver: algorithm to use in optimization problem, default:lbfgs and its only work with l2 or none penalty. \n",
    "    # choice of algorithm depends on penalty saga: elastiicnet, li, l2, and none\n",
    "    'max_iter':[300,400,500,600,700,1000]# max number of iteration needed for the solver to converge\n",
    "    \n",
    "}\n",
    "cv=GridSearchCV(lR, parameters, cv=5, verbose=3,error_score='raise',scoring=scoring,refit=\"AUC\")\n",
    "cv.fit(train_features_tl_clean_cap_tran_features,train_labels_tl.values.ravel())#ravel to convert to array gets error otherwise"
   ]
  },
  {
   "cell_type": "code",
   "execution_count": 34,
   "id": "66cbf268",
   "metadata": {},
   "outputs": [
    {
     "data": {
      "text/plain": [
       "LogisticRegression(max_iter=300, solver='saga', tol=0.001)"
      ]
     },
     "execution_count": 34,
     "metadata": {},
     "output_type": "execute_result"
    }
   ],
   "source": [
    "cv.best_estimator_"
   ]
  },
  {
   "cell_type": "code",
   "execution_count": 35,
   "id": "76cefc1e",
   "metadata": {},
   "outputs": [
    {
     "data": {
      "text/plain": [
       "0.6152092365448227"
      ]
     },
     "execution_count": 35,
     "metadata": {},
     "output_type": "execute_result"
    }
   ],
   "source": [
    "cv.best_score_"
   ]
  },
  {
   "cell_type": "code",
   "execution_count": 36,
   "id": "b2208c25",
   "metadata": {},
   "outputs": [
    {
     "data": {
      "text/plain": [
       "['/Users/sarahalbadri/Desktop/Banking Dataset/partitioned dataset/TomekLinks/models/mdl6_train_features_tl_clean_cap_tran_features_LR.pkl']"
      ]
     },
     "execution_count": 36,
     "metadata": {},
     "output_type": "execute_result"
    }
   ],
   "source": [
    "# write our pickled model\n",
    "joblib.dump(cv.best_estimator_,'.../.../.../.../models/mdl6_train_features_tl_clean_cap_tran_features_LR.pkl')"
   ]
  },
  {
   "cell_type": "markdown",
   "id": "4533db7d",
   "metadata": {},
   "source": [
    "# Clean Cap Trans Features Reduced"
   ]
  },
  {
   "cell_type": "code",
   "execution_count": 37,
   "id": "92361192",
   "metadata": {},
   "outputs": [],
   "source": [
    "# Clean Cap Trans Features Reduced\n",
    "train_features_tl_clean_cap_tran_features_reduced= pd.read_csv(\".../.../.../.../TomekLinks/feature selection/train_features_tl_clean_cap_tran_features_reduced.csv\")\n",
    "train_labels_tl= pd.read_csv(\".../.../.../.../TomekLinks/train_labels_tl.csv\")"
   ]
  },
  {
   "cell_type": "code",
   "execution_count": null,
   "id": "f44213cc",
   "metadata": {
    "scrolled": true
   },
   "outputs": [],
   "source": [
    "lR= LogisticRegression()\n",
    "scoring ={\"F1\":\"f1\", \"AUC\":make_scorer(roc_auc_score)}\n",
    "parameters={\n",
    "    'penalty':['l1','l2'],#  l1 or l2: adding l1 or l2(default). \n",
    "    'tol':[0.01,0.001,0.0001,0.00001], #tol: tolerance for stopping criteria\n",
    "    'solver':['saga'],# solver: algorithm to use in optimization problem, default:lbfgs and its only work with l2 or none penalty. \n",
    "    # choice of algorithm depends on penalty saga: elastiicnet, li, l2, and none\n",
    "    'max_iter':[300,400,500,600,700,1000]# max number of iteration needed for the solver to converge\n",
    "    \n",
    "}\n",
    "cv=GridSearchCV(lR, parameters, cv=5, verbose=3,error_score='raise',scoring=scoring,refit=\"AUC\")\n",
    "cv.fit(train_features_tl_clean_cap_tran_features_reduced,train_labels_tl.values.ravel())#ravel to convert to array gets error otherwise"
   ]
  },
  {
   "cell_type": "code",
   "execution_count": 39,
   "id": "b9de42b1",
   "metadata": {},
   "outputs": [
    {
     "data": {
      "text/plain": [
       "LogisticRegression(max_iter=400, solver='saga', tol=0.01)"
      ]
     },
     "execution_count": 39,
     "metadata": {},
     "output_type": "execute_result"
    }
   ],
   "source": [
    "cv.best_estimator_"
   ]
  },
  {
   "cell_type": "code",
   "execution_count": 40,
   "id": "d47047a8",
   "metadata": {},
   "outputs": [
    {
     "data": {
      "text/plain": [
       "0.6042505135954196"
      ]
     },
     "execution_count": 40,
     "metadata": {},
     "output_type": "execute_result"
    }
   ],
   "source": [
    "cv.best_score_"
   ]
  },
  {
   "cell_type": "code",
   "execution_count": 41,
   "id": "f492718e",
   "metadata": {},
   "outputs": [
    {
     "data": {
      "text/plain": [
       "['/Users/sarahalbadri/Desktop/Banking Dataset/partitioned dataset/TomekLinks/models/mdl7_train_features_tl_clean_cap_tran_features_reduced_LR.pkl']"
      ]
     },
     "execution_count": 41,
     "metadata": {},
     "output_type": "execute_result"
    }
   ],
   "source": [
    "# write our pickled model\n",
    "joblib.dump(cv.best_estimator_,'.../.../.../.../models/mdl7_train_features_tl_clean_cap_tran_features_reduced_LR.pkl')"
   ]
  },
  {
   "cell_type": "markdown",
   "id": "8adf6362",
   "metadata": {},
   "source": [
    "# <font color =Green> Support Vector machine"
   ]
  },
  {
   "cell_type": "code",
   "execution_count": null,
   "id": "cd1b4e5a",
   "metadata": {},
   "outputs": [],
   "source": [
    "SVC().get_params()"
   ]
  },
  {
   "cell_type": "markdown",
   "id": "1079a5b3",
   "metadata": {},
   "source": [
    "# Original Features"
   ]
  },
  {
   "cell_type": "code",
   "execution_count": 43,
   "id": "ae98924c",
   "metadata": {},
   "outputs": [],
   "source": [
    "train_features_tl_original_features= pd.read_csv(\".../.../.../.../feature selection/train_features_tl_original_features.csv\")\n",
    "train_labels_tl= pd.read_csv(\".../.../.../.../TomekLinks/train_labels_tl.csv\")"
   ]
  },
  {
   "cell_type": "code",
   "execution_count": null,
   "id": "66a50206",
   "metadata": {
    "scrolled": true
   },
   "outputs": [],
   "source": [
    "SVM= SVC()\n",
    "scoring ={\"F1\":\"f1\", \"AUC\":make_scorer(roc_auc_score)}\n",
    "parameters={\n",
    "    'tol':[0.1,0.01,0.001,0.0001],#tolarance for stopping criteria\n",
    "    'C':[0.1,1,10]# regularization parameters. Strength of regularization is inverslyt propotional to c\n",
    "    \n",
    "}\n",
    "\n",
    "cv=GridSearchCV(SVM, parameters, cv=5, verbose=3, error_score='raise', scoring=scoring,refit=\"AUC\")\n",
    "cv.fit(train_features_tl_original_features,train_labels_tl.values.ravel())#ravel to convert to array gets error otherwise"
   ]
  },
  {
   "cell_type": "code",
   "execution_count": 45,
   "id": "89a34de6",
   "metadata": {},
   "outputs": [
    {
     "data": {
      "text/plain": [
       "SVC(C=10, tol=0.01)"
      ]
     },
     "execution_count": 45,
     "metadata": {},
     "output_type": "execute_result"
    }
   ],
   "source": [
    "cv.best_estimator_"
   ]
  },
  {
   "cell_type": "code",
   "execution_count": 46,
   "id": "fd9835ad",
   "metadata": {},
   "outputs": [
    {
     "data": {
      "text/plain": [
       "0.5847162580436742"
      ]
     },
     "execution_count": 46,
     "metadata": {},
     "output_type": "execute_result"
    }
   ],
   "source": [
    "cv.best_score_"
   ]
  },
  {
   "cell_type": "code",
   "execution_count": 47,
   "id": "83b88cc2",
   "metadata": {},
   "outputs": [
    {
     "data": {
      "text/plain": [
       "['/Users/sarahalbadri/Desktop/Banking Dataset/partitioned dataset/TomekLinks/models/mdl8_train_features_tl_original_features_SVM.pkl']"
      ]
     },
     "execution_count": 47,
     "metadata": {},
     "output_type": "execute_result"
    }
   ],
   "source": [
    "# write our pickled model\n",
    "joblib.dump(cv.best_estimator_,'.../.../.../.../models/mdl8_train_features_tl_original_features_SVM.pkl')"
   ]
  },
  {
   "cell_type": "markdown",
   "id": "2c66e8bb",
   "metadata": {},
   "source": [
    "# Original Reduced"
   ]
  },
  {
   "cell_type": "code",
   "execution_count": 50,
   "id": "68e5f1a4",
   "metadata": {},
   "outputs": [],
   "source": [
    "train_features_tl_original_reduced= pd.read_csv(\" .../.../.../.../feature selection/train_features_tl_original_reduced.csv\")\n",
    "train_labels_tl= pd.read_csv(\".../.../.../.../TomekLinks/train_labels_tl.csv\")"
   ]
  },
  {
   "cell_type": "code",
   "execution_count": null,
   "id": "a8ee8279",
   "metadata": {
    "scrolled": true
   },
   "outputs": [],
   "source": [
    "SVM= SVC()\n",
    "scoring ={\"F1\":\"f1\", \"AUC\":make_scorer(roc_auc_score)}\n",
    "parameters={\n",
    "    'tol':[0.1,0.01,0.001,0.0001],#tolarance for stopping criteria\n",
    "    'C':[0.1,1,10]# regularization parameters. Strength of regularization is inverslyt propotional to c\n",
    "    \n",
    "}\n",
    "\n",
    "cv=GridSearchCV(SVM, parameters, cv=5, verbose=3,error_score='raise', scoring=scoring,refit=\"AUC\")\n",
    "cv.fit(train_features_tl_original_reduced,train_labels_tl.values.ravel())#ravel to convert to array gets error otherwise"
   ]
  },
  {
   "cell_type": "code",
   "execution_count": 52,
   "id": "09dc45de",
   "metadata": {},
   "outputs": [
    {
     "data": {
      "text/plain": [
       "SVC(C=1)"
      ]
     },
     "execution_count": 52,
     "metadata": {},
     "output_type": "execute_result"
    }
   ],
   "source": [
    "cv.best_estimator_"
   ]
  },
  {
   "cell_type": "code",
   "execution_count": 53,
   "id": "780f9eab",
   "metadata": {},
   "outputs": [
    {
     "data": {
      "text/plain": [
       "0.561371743145564"
      ]
     },
     "execution_count": 53,
     "metadata": {},
     "output_type": "execute_result"
    }
   ],
   "source": [
    "cv.best_score_"
   ]
  },
  {
   "cell_type": "code",
   "execution_count": 54,
   "id": "33c9f100",
   "metadata": {},
   "outputs": [
    {
     "data": {
      "text/plain": [
       "['/Users/sarahalbadri/Desktop/Banking Dataset/partitioned dataset/TomekLinks/models/mdl9_train_features_tl_original_reduced_SVM.pkl']"
      ]
     },
     "execution_count": 54,
     "metadata": {},
     "output_type": "execute_result"
    }
   ],
   "source": [
    "# write our pickled model\n",
    "joblib.dump(cv.best_estimator_,'.../.../.../.../models/mdl9_train_features_tl_original_reduced_SVM.pkl')"
   ]
  },
  {
   "cell_type": "markdown",
   "id": "76cba96d",
   "metadata": {},
   "source": [
    "# Clean Capped Features"
   ]
  },
  {
   "cell_type": "code",
   "execution_count": 55,
   "id": "cfb13ec2",
   "metadata": {},
   "outputs": [],
   "source": [
    "train_features_tl_clean_capped_features = pd.read_csv(\".../.../.../.../TomekLinks/feature selection/train_features_tl_clean_capped_features.csv\")\n",
    "train_labels_tl= pd.read_csv(\".../.../.../.../TomekLinks/train_labels_tl.csv\")\n"
   ]
  },
  {
   "cell_type": "code",
   "execution_count": null,
   "id": "83e577a6",
   "metadata": {
    "scrolled": true
   },
   "outputs": [],
   "source": [
    "SVM= SVC()\n",
    "scoring ={\"F1\":\"f1\", \"AUC\":make_scorer(roc_auc_score)}\n",
    "parameters={\n",
    "    'tol':[0.1,0.01,0.001,0.0001],#tolarance for stopping criteria\n",
    "    'C':[0.1,1,10]# regularization parameters. Strength of regularization is inverslyt propotional to c\n",
    "    \n",
    "}\n",
    "\n",
    "cv=GridSearchCV(SVM, parameters, cv=5, verbose=3,error_score='raise', scoring=scoring,refit=\"AUC\")\n",
    "cv.fit(train_features_tl_clean_capped_features,train_labels_tl.values.ravel())#ravel to convert to array gets error otherwise"
   ]
  },
  {
   "cell_type": "code",
   "execution_count": 57,
   "id": "783de144",
   "metadata": {},
   "outputs": [
    {
     "data": {
      "text/plain": [
       "SVC(C=10, tol=0.0001)"
      ]
     },
     "execution_count": 57,
     "metadata": {},
     "output_type": "execute_result"
    }
   ],
   "source": [
    "cv.best_estimator_"
   ]
  },
  {
   "cell_type": "code",
   "execution_count": 58,
   "id": "972e3d23",
   "metadata": {},
   "outputs": [
    {
     "data": {
      "text/plain": [
       "0.6176640675651244"
      ]
     },
     "execution_count": 58,
     "metadata": {},
     "output_type": "execute_result"
    }
   ],
   "source": [
    "cv.best_score_"
   ]
  },
  {
   "cell_type": "code",
   "execution_count": 59,
   "id": "288210ac",
   "metadata": {},
   "outputs": [
    {
     "data": {
      "text/plain": [
       "['/Users/sarahalbadri/Desktop/Banking Dataset/partitioned dataset/TomekLinks/models/mdl10_train_features_tl_clean_capped_features_SVM.pkl']"
      ]
     },
     "execution_count": 59,
     "metadata": {},
     "output_type": "execute_result"
    }
   ],
   "source": [
    "# write our pickled model\n",
    "joblib.dump(cv.best_estimator_,'.../.../.../.../TomekLinks/models/mdl10_train_features_tl_clean_capped_features_SVM.pkl')"
   ]
  },
  {
   "cell_type": "markdown",
   "id": "77438ced",
   "metadata": {},
   "source": [
    "# clean transformed features"
   ]
  },
  {
   "cell_type": "code",
   "execution_count": 61,
   "id": "5eb5efdf",
   "metadata": {},
   "outputs": [],
   "source": [
    "train_features_tl_clean_trans_features= pd.read_csv(\".../.../.../.../TomekLinks/feature selection/train_features_tl_clean_trans_features.csv\")\n",
    "train_labels_tl= pd.read_csv(\".../.../.../.../TomekLinks/train_labels_tl.csv\") "
   ]
  },
  {
   "cell_type": "code",
   "execution_count": null,
   "id": "06151c0c",
   "metadata": {
    "scrolled": true
   },
   "outputs": [],
   "source": [
    "SVM= SVC()\n",
    "scoring ={\"F1\":\"f1\", \"AUC\":make_scorer(roc_auc_score)}\n",
    "parameters={\n",
    "    'tol':[0.1,0.01,0.001,0.0001],#tolarance for stopping criteria\n",
    "    'C':[0.1,1,10]# regularization parameters. Strength of regularization is inverslyt propotional to c\n",
    "    \n",
    "}\n",
    "\n",
    "cv=GridSearchCV(SVM, parameters, cv=5, verbose=3,error_score='raise', scoring=scoring,refit=\"AUC\")\n",
    "cv.fit(train_features_tl_clean_trans_features,train_labels_tl.values.ravel())#ravel to convert to array gets error otherwise"
   ]
  },
  {
   "cell_type": "code",
   "execution_count": 63,
   "id": "cd261fa5",
   "metadata": {},
   "outputs": [
    {
     "data": {
      "text/plain": [
       "SVC(C=10, tol=0.01)"
      ]
     },
     "execution_count": 63,
     "metadata": {},
     "output_type": "execute_result"
    }
   ],
   "source": [
    "cv.best_estimator_"
   ]
  },
  {
   "cell_type": "code",
   "execution_count": 64,
   "id": "0e446fb3",
   "metadata": {},
   "outputs": [
    {
     "data": {
      "text/plain": [
       "0.5847162580436742"
      ]
     },
     "execution_count": 64,
     "metadata": {},
     "output_type": "execute_result"
    }
   ],
   "source": [
    "cv.best_score_"
   ]
  },
  {
   "cell_type": "code",
   "execution_count": 65,
   "id": "8a62bcc4",
   "metadata": {},
   "outputs": [
    {
     "data": {
      "text/plain": [
       "['/Users/sarahalbadri/Desktop/Banking Dataset/partitioned dataset/TomekLinks/models/mdl11_train_features_tl_clean_trans_features_SVM.pkl']"
      ]
     },
     "execution_count": 65,
     "metadata": {},
     "output_type": "execute_result"
    }
   ],
   "source": [
    "# write our pickled model\n",
    "joblib.dump(cv.best_estimator_,'.../.../.../.../mdl11_train_features_tl_clean_trans_features_SVM.pkl')"
   ]
  },
  {
   "cell_type": "markdown",
   "id": "6e82d0e2",
   "metadata": {},
   "source": [
    "# Clean Transformed Features Reduced"
   ]
  },
  {
   "cell_type": "code",
   "execution_count": 66,
   "id": "98bbab20",
   "metadata": {},
   "outputs": [],
   "source": [
    "train_features_tl_clean_trans_features_reduced = pd.read_csv(\".../.../.../.../feature selection/train_features_tl_clean_trans_features_reduced.csv\")\n",
    "train_labels_tl= pd.read_csv(\".../.../.../.../TomekLinks/train_labels_tl.csv\")"
   ]
  },
  {
   "cell_type": "code",
   "execution_count": null,
   "id": "f152cf82",
   "metadata": {
    "scrolled": true
   },
   "outputs": [],
   "source": [
    "SVM= SVC()\n",
    "scoring ={\"F1\":\"f1\", \"AUC\":make_scorer(roc_auc_score)}\n",
    "parameters={\n",
    "    'tol':[0.1,0.01,0.001,0.0001],#tolarance for stopping criteria\n",
    "    'C':[0.1,1,10]# regularization parameters. Strength of regularization is inverslyt propotional to c\n",
    "    \n",
    "}\n",
    "\n",
    "cv=GridSearchCV(SVM, parameters, cv=5, verbose=3,error_score='raise', scoring=scoring,refit=\"AUC\")\n",
    "cv.fit(train_features_tl_clean_trans_features_reduced,train_labels_tl.values.ravel())#ravel to convert to array gets error otherwise"
   ]
  },
  {
   "cell_type": "code",
   "execution_count": 68,
   "id": "4318e9e9",
   "metadata": {},
   "outputs": [
    {
     "data": {
      "text/plain": [
       "SVC(C=10)"
      ]
     },
     "execution_count": 68,
     "metadata": {},
     "output_type": "execute_result"
    }
   ],
   "source": [
    "cv.best_estimator_"
   ]
  },
  {
   "cell_type": "code",
   "execution_count": 69,
   "id": "7119994b",
   "metadata": {},
   "outputs": [
    {
     "data": {
      "text/plain": [
       "0.5782900469718021"
      ]
     },
     "execution_count": 69,
     "metadata": {},
     "output_type": "execute_result"
    }
   ],
   "source": [
    "cv.best_score_"
   ]
  },
  {
   "cell_type": "code",
   "execution_count": 70,
   "id": "860b25fe",
   "metadata": {},
   "outputs": [
    {
     "data": {
      "text/plain": [
       "['/Users/sarahalbadri/Desktop/Banking Dataset/partitioned dataset/TomekLinks/models/mdl12_train_features_tl_clean_trans_features_reduced_SVM.pkl']"
      ]
     },
     "execution_count": 70,
     "metadata": {},
     "output_type": "execute_result"
    }
   ],
   "source": [
    "# write our pickled model\n",
    "joblib.dump(cv.best_estimator_,'.../.../.../.../TomekLinks/models/mdl12_train_features_tl_clean_trans_features_reduced_SVM.pkl')"
   ]
  },
  {
   "cell_type": "markdown",
   "id": "f81bee29",
   "metadata": {},
   "source": [
    "# Clean Capped Transformed Features"
   ]
  },
  {
   "cell_type": "code",
   "execution_count": 71,
   "id": "e8d7227e",
   "metadata": {},
   "outputs": [],
   "source": [
    "train_features_tl_clean_cap_tran_features= pd.read_csv(\" .../.../.../.../feature selection/train_features_tl_clean_cap_tran_features.csv\")\n",
    "train_labels_tl= pd.read_csv(\".../.../.../.../TomekLinks/train_labels_tl.csv\")"
   ]
  },
  {
   "cell_type": "code",
   "execution_count": null,
   "id": "ad7d6b6e",
   "metadata": {
    "scrolled": true
   },
   "outputs": [],
   "source": [
    "SVM= SVC()\n",
    "scoring ={\"F1\":\"f1\", \"AUC\":make_scorer(roc_auc_score)}\n",
    "parameters={\n",
    "    'tol':[0.1,0.01,0.001,0.0001],#tolarance for stopping criteria\n",
    "    'C':[0.1,1,10]# regularization parameters. Strength of regularization is inverslyt propotional to c\n",
    "    \n",
    "}\n",
    "\n",
    "cv=GridSearchCV(SVM, parameters, cv=5, verbose=3,error_score='raise', scoring=scoring,refit=\"AUC\")\n",
    "cv.fit(train_features_tl_clean_cap_tran_features,train_labels_tl.values.ravel())#ravel to convert to array gets error otherwise"
   ]
  },
  {
   "cell_type": "code",
   "execution_count": 73,
   "id": "42d1c125",
   "metadata": {},
   "outputs": [
    {
     "data": {
      "text/plain": [
       "SVC(C=1, tol=0.01)"
      ]
     },
     "execution_count": 73,
     "metadata": {},
     "output_type": "execute_result"
    }
   ],
   "source": [
    "cv.best_estimator_"
   ]
  },
  {
   "cell_type": "code",
   "execution_count": 74,
   "id": "dd1b188d",
   "metadata": {},
   "outputs": [
    {
     "data": {
      "text/plain": [
       "0.5887241273817441"
      ]
     },
     "execution_count": 74,
     "metadata": {},
     "output_type": "execute_result"
    }
   ],
   "source": [
    "cv.best_score_"
   ]
  },
  {
   "cell_type": "code",
   "execution_count": 75,
   "id": "4d444f39",
   "metadata": {},
   "outputs": [
    {
     "data": {
      "text/plain": [
       "['/Users/sarahalbadri/Desktop/Banking Dataset/partitioned dataset/TomekLinks/models/mdl13_train_features_tl_clean_cap_tran_features_SVM.pkl']"
      ]
     },
     "execution_count": 75,
     "metadata": {},
     "output_type": "execute_result"
    }
   ],
   "source": [
    "# write our pickled model\n",
    "joblib.dump(cv.best_estimator_,'.../.../.../.../TomekLinks/models/mdl13_train_features_tl_clean_cap_tran_features_SVM.pkl')"
   ]
  },
  {
   "cell_type": "markdown",
   "id": "1ab78358",
   "metadata": {},
   "source": [
    "# Clean Cap Trans Features Reduced"
   ]
  },
  {
   "cell_type": "code",
   "execution_count": 76,
   "id": "465b12e9",
   "metadata": {},
   "outputs": [],
   "source": [
    "train_features_tl_clean_cap_tran_features_reduced = pd.read_csv(\".../.../.../.../feature selection/train_features_tl_clean_cap_tran_features_reduced.csv\")\n",
    "train_labels_tl= pd.read_csv(\".../.../.../.../TomekLinks/train_labels_tl.csv\")"
   ]
  },
  {
   "cell_type": "code",
   "execution_count": null,
   "id": "364ac31b",
   "metadata": {
    "scrolled": true
   },
   "outputs": [],
   "source": [
    "from sklearn.metrics import make_scorer\n",
    "SVM= SVC()\n",
    "scoring ={\"F1\":\"f1\", \"AUC\":make_scorer(roc_auc_score)}\n",
    "parameters={\n",
    "    'tol':[0.1,0.01,0.001,0.0001],#tolarance for stopping criteria\n",
    "    'C':[0.1,1,10]# regularization parameters. Strength of regularization is inversly propotional to c\n",
    "    \n",
    "}\n",
    "\n",
    "cv=GridSearchCV(SVM, parameters, cv=5, verbose=3, error_score='raise',scoring=scoring, refit=\"AUC\")#,return_train_score=True\n",
    "cv.fit(train_features_tl_clean_cap_tran_features_reduced,train_labels_tl.values.ravel())#ravel to convert to array gets error otherwise"
   ]
  },
  {
   "cell_type": "code",
   "execution_count": 78,
   "id": "0e032396",
   "metadata": {},
   "outputs": [
    {
     "data": {
      "text/plain": [
       "SVC(C=10)"
      ]
     },
     "execution_count": 78,
     "metadata": {},
     "output_type": "execute_result"
    }
   ],
   "source": [
    "cv.best_estimator_"
   ]
  },
  {
   "cell_type": "code",
   "execution_count": 79,
   "id": "c24ea52b",
   "metadata": {},
   "outputs": [
    {
     "data": {
      "text/plain": [
       "0.5824705924505842"
      ]
     },
     "execution_count": 79,
     "metadata": {},
     "output_type": "execute_result"
    }
   ],
   "source": [
    "cv.best_score_"
   ]
  },
  {
   "cell_type": "code",
   "execution_count": 80,
   "id": "052cfde6",
   "metadata": {},
   "outputs": [
    {
     "data": {
      "text/plain": [
       "['/Users/sarahalbadri/Desktop/Banking Dataset/partitioned dataset/TomekLinks/models/mdl14_train_features_tl_clean_cap_tran_features_reduced_SVM.pkl']"
      ]
     },
     "execution_count": 80,
     "metadata": {},
     "output_type": "execute_result"
    }
   ],
   "source": [
    "# write our pickled model\n",
    "joblib.dump(cv.best_estimator_,'.../.../.../.../TomekLinks/models/mdl14_train_features_tl_clean_cap_tran_features_reduced_SVM.pkl')"
   ]
  },
  {
   "cell_type": "markdown",
   "id": "bd9defe9",
   "metadata": {},
   "source": [
    "# <font color=green> Decision Tree"
   ]
  },
  {
   "cell_type": "code",
   "execution_count": null,
   "id": "96762e21",
   "metadata": {},
   "outputs": [],
   "source": [
    "DecisionTreeClassifier().get_params()"
   ]
  },
  {
   "cell_type": "markdown",
   "id": "f7620812",
   "metadata": {},
   "source": [
    "# Original Features"
   ]
  },
  {
   "cell_type": "code",
   "execution_count": 82,
   "id": "1cd1e1a9",
   "metadata": {},
   "outputs": [],
   "source": [
    "# Original Features\n",
    "train_features_tl_original_features= pd.read_csv(\".../.../.../.../TomekLinks/feature selection/train_features_tl_original_features.csv\")\n",
    "train_labels_tl= pd.read_csv(\".../.../.../.../TomekLinks/train_labels_tl.csv\") "
   ]
  },
  {
   "cell_type": "code",
   "execution_count": null,
   "id": "498425d4",
   "metadata": {
    "scrolled": true
   },
   "outputs": [],
   "source": [
    "DT= DecisionTreeClassifier()\n",
    "scoring ={\"F1\":\"f1\", \"AUC\":make_scorer(roc_auc_score)}\n",
    "\n",
    "parameters={\n",
    "    'max_depth':[5,10,15,30,50,None]# maximum depth of the tree. none: tree goes as deep untill all leaves are pure or until all leaves contain less than min_samples_split samples.\n",
    "\n",
    "}\n",
    "cv=GridSearchCV(DT, parameters, cv=5, verbose=3,error_score='raise',scoring=scoring,refit=\"AUC\")\n",
    "cv.fit(train_features_tl_original_features,train_labels_tl.values.ravel())#ravel to convert to array gets error otherwise"
   ]
  },
  {
   "cell_type": "code",
   "execution_count": 84,
   "id": "c93f92e8",
   "metadata": {},
   "outputs": [
    {
     "data": {
      "text/plain": [
       "DecisionTreeClassifier(max_depth=5)"
      ]
     },
     "execution_count": 84,
     "metadata": {},
     "output_type": "execute_result"
    }
   ],
   "source": [
    "cv.best_estimator_"
   ]
  },
  {
   "cell_type": "code",
   "execution_count": 85,
   "id": "8fb6fb4c",
   "metadata": {},
   "outputs": [
    {
     "data": {
      "text/plain": [
       "0.5432053976645792"
      ]
     },
     "execution_count": 85,
     "metadata": {},
     "output_type": "execute_result"
    }
   ],
   "source": [
    "cv.best_score_"
   ]
  },
  {
   "cell_type": "code",
   "execution_count": 86,
   "id": "9b512009",
   "metadata": {
    "scrolled": true
   },
   "outputs": [
    {
     "data": {
      "text/plain": [
       "['/Users/sarahalbadri/Desktop/Banking Dataset/partitioned dataset/TomekLinks/models/mdl15_train_features_tl_original_features_DT.pkl']"
      ]
     },
     "execution_count": 86,
     "metadata": {},
     "output_type": "execute_result"
    }
   ],
   "source": [
    "# write our pickled model\n",
    "joblib.dump(cv.best_estimator_,'.../.../.../.../TomekLinks/models/mdl15_train_features_tl_original_features_DT.pkl')"
   ]
  },
  {
   "cell_type": "markdown",
   "id": "7777a96c",
   "metadata": {},
   "source": [
    "# Original Reduced"
   ]
  },
  {
   "cell_type": "code",
   "execution_count": 87,
   "id": "cbecd9ca",
   "metadata": {},
   "outputs": [],
   "source": [
    "# Original Reduced\n",
    "train_features_tl_original_reduced= pd.read_csv(\".../.../.../.../TomekLinks/feature selection/train_features_tl_original_reduced.csv\")\n",
    "train_labels_tl= pd.read_csv(\".../.../.../.../TomekLinks/train_labels_tl.csv\")\n",
    "\n"
   ]
  },
  {
   "cell_type": "code",
   "execution_count": null,
   "id": "78e00104",
   "metadata": {
    "scrolled": true
   },
   "outputs": [],
   "source": [
    "DT= DecisionTreeClassifier()\n",
    "scoring ={\"F1\":\"f1\", \"AUC\":make_scorer(roc_auc_score)}\n",
    "\n",
    "parameters={\n",
    "    'max_depth':[5,10,15,30,50,None]# maximum depth of the tree. none: tree goes as deep untill all leaves are pure or until all leaves contain less than min_samples_split samples.\n",
    "\n",
    "}\n",
    "cv=GridSearchCV(DT, parameters, cv=5, verbose=3,error_score='raise',scoring=scoring,refit=\"AUC\")\n",
    "cv.fit(train_features_tl_original_reduced,train_labels_tl.values.ravel())#ravel to convert to array gets error otherwise"
   ]
  },
  {
   "cell_type": "code",
   "execution_count": 89,
   "id": "6c37788c",
   "metadata": {},
   "outputs": [
    {
     "data": {
      "text/plain": [
       "DecisionTreeClassifier(max_depth=10)"
      ]
     },
     "execution_count": 89,
     "metadata": {},
     "output_type": "execute_result"
    }
   ],
   "source": [
    "cv.best_estimator_"
   ]
  },
  {
   "cell_type": "code",
   "execution_count": 90,
   "id": "010ca78b",
   "metadata": {},
   "outputs": [
    {
     "data": {
      "text/plain": [
       "0.4841994440198715"
      ]
     },
     "execution_count": 90,
     "metadata": {},
     "output_type": "execute_result"
    }
   ],
   "source": [
    "cv.best_score_"
   ]
  },
  {
   "cell_type": "code",
   "execution_count": 91,
   "id": "f28c0ba3",
   "metadata": {},
   "outputs": [
    {
     "data": {
      "text/plain": [
       "['/Users/sarahalbadri/Desktop/Banking Dataset/partitioned dataset/TomekLinks/models/mdl16_train_features_tl_original_reduced_DT.pkl']"
      ]
     },
     "execution_count": 91,
     "metadata": {},
     "output_type": "execute_result"
    }
   ],
   "source": [
    "# write our pickled model\n",
    "joblib.dump(cv.best_estimator_,'.../.../.../.../TomekLinks/models/mdl16_train_features_tl_original_reduced_DT.pkl')"
   ]
  },
  {
   "cell_type": "markdown",
   "id": "f4ce5f67",
   "metadata": {},
   "source": [
    "# Clean Capped Features"
   ]
  },
  {
   "cell_type": "code",
   "execution_count": 92,
   "id": "f55ef0aa",
   "metadata": {},
   "outputs": [],
   "source": [
    "# Clean Capped Features\n",
    "train_features_tl_clean_capped_features = pd.read_csv(\" .../.../.../.../TomekLinks/feature selection/train_features_tl_clean_capped_features.csv\")\n",
    "train_labels_tl= pd.read_csv(\".../.../.../.../TomekLinks/train_labels_tl.csv\")"
   ]
  },
  {
   "cell_type": "code",
   "execution_count": null,
   "id": "6977869f",
   "metadata": {
    "scrolled": true
   },
   "outputs": [],
   "source": [
    "DT= DecisionTreeClassifier()\n",
    "scoring ={\"F1\":\"f1\", \"AUC\":make_scorer(roc_auc_score)}\n",
    "\n",
    "parameters={\n",
    "    'max_depth':[5,10,15,30,50,None]# maximum depth of the tree. none: tree goes as deep untill all leaves are pure or until all leaves contain less than min_samples_split samples.\n",
    "\n",
    "}\n",
    "cv=GridSearchCV(DT, parameters, cv=5, verbose=3,error_score='raise',scoring=scoring,refit=\"AUC\")\n",
    "cv.fit(train_features_tl_clean_capped_features,train_labels_tl.values.ravel())#ravel to convert to array gets error otherwise"
   ]
  },
  {
   "cell_type": "code",
   "execution_count": 94,
   "id": "9a630167",
   "metadata": {},
   "outputs": [
    {
     "data": {
      "text/plain": [
       "DecisionTreeClassifier(max_depth=5)"
      ]
     },
     "execution_count": 94,
     "metadata": {},
     "output_type": "execute_result"
    }
   ],
   "source": [
    "cv.best_estimator_"
   ]
  },
  {
   "cell_type": "code",
   "execution_count": 95,
   "id": "a4f69de3",
   "metadata": {},
   "outputs": [
    {
     "data": {
      "text/plain": [
       "0.6396218798511144"
      ]
     },
     "execution_count": 95,
     "metadata": {},
     "output_type": "execute_result"
    }
   ],
   "source": [
    "cv.best_score_"
   ]
  },
  {
   "cell_type": "code",
   "execution_count": 96,
   "id": "f064305e",
   "metadata": {},
   "outputs": [
    {
     "data": {
      "text/plain": [
       "['/Users/sarahalbadri/Desktop/Banking Dataset/partitioned dataset/TomekLinks/models/mdl17_train_features_tl_clean_capped_features_DT.pkl']"
      ]
     },
     "execution_count": 96,
     "metadata": {},
     "output_type": "execute_result"
    }
   ],
   "source": [
    "# write our pickled model\n",
    "joblib.dump(cv.best_estimator_,'.../.../.../.../TomekLinks/models/mdl17_train_features_tl_clean_capped_features_DT.pkl')"
   ]
  },
  {
   "cell_type": "markdown",
   "id": "b6b99dea",
   "metadata": {},
   "source": [
    "# clean transformed features"
   ]
  },
  {
   "cell_type": "code",
   "execution_count": 99,
   "id": "9062c8ee",
   "metadata": {},
   "outputs": [],
   "source": [
    "train_features_tl_clean_trans_features= pd.read_csv(\".../.../.../.../TomekLinks/feature selection/train_features_tl_clean_trans_features.csv\")\n",
    "train_labels_tl= pd.read_csv(\".../.../.../.../TomekLinks/train_labels_tl.csv\")"
   ]
  },
  {
   "cell_type": "code",
   "execution_count": null,
   "id": "0a54175d",
   "metadata": {
    "scrolled": true
   },
   "outputs": [],
   "source": [
    "DT= DecisionTreeClassifier()\n",
    "scoring ={\"F1\":\"f1\", \"AUC\":make_scorer(roc_auc_score)}\n",
    "\n",
    "parameters={\n",
    "    'max_depth':[5,10,15,30,50,None]# maximum depth of the tree. none: tree goes as deep untill all leaves are pure or until all leaves contain less than min_samples_split samples.\n",
    "\n",
    "}\n",
    "cv=GridSearchCV(DT, parameters, cv=5, verbose=3,error_score='raise',scoring=scoring,refit=\"AUC\")\n",
    "cv.fit(train_features_tl_clean_trans_features,train_labels_tl.values.ravel())#ravel to convert to array gets error otherwise"
   ]
  },
  {
   "cell_type": "code",
   "execution_count": 101,
   "id": "2ff09a2c",
   "metadata": {},
   "outputs": [
    {
     "data": {
      "text/plain": [
       "DecisionTreeClassifier(max_depth=5)"
      ]
     },
     "execution_count": 101,
     "metadata": {},
     "output_type": "execute_result"
    }
   ],
   "source": [
    "cv.best_estimator_"
   ]
  },
  {
   "cell_type": "code",
   "execution_count": 102,
   "id": "7390ebd9",
   "metadata": {},
   "outputs": [
    {
     "data": {
      "text/plain": [
       "0.5444235593478571"
      ]
     },
     "execution_count": 102,
     "metadata": {},
     "output_type": "execute_result"
    }
   ],
   "source": [
    "cv.best_score_"
   ]
  },
  {
   "cell_type": "code",
   "execution_count": 103,
   "id": "2d72bef5",
   "metadata": {},
   "outputs": [
    {
     "data": {
      "text/plain": [
       "['/Users/sarahalbadri/Desktop/Banking Dataset/partitioned dataset/TomekLinks/models/mdl18_train_features_tl_clean_trans_features_DT.pkl']"
      ]
     },
     "execution_count": 103,
     "metadata": {},
     "output_type": "execute_result"
    }
   ],
   "source": [
    "# write our pickled model\n",
    "joblib.dump(cv.best_estimator_,'.../.../.../.../TomekLinks/models/mdl18_train_features_tl_clean_trans_features_DT.pkl')"
   ]
  },
  {
   "cell_type": "markdown",
   "id": "67072534",
   "metadata": {},
   "source": [
    "# Clean Transformed Features Reduced"
   ]
  },
  {
   "cell_type": "code",
   "execution_count": 104,
   "id": "3fdac56b",
   "metadata": {},
   "outputs": [],
   "source": [
    "train_features_tl_clean_trans_features_reduced = pd.read_csv(\".../.../.../.../train_features_tl_clean_trans_features_reduced.csv\")\n",
    "train_labels_tl= pd.read_csv(\"/TomekLinks/train_labels_tl.csv\")"
   ]
  },
  {
   "cell_type": "code",
   "execution_count": null,
   "id": "c283201a",
   "metadata": {
    "scrolled": true
   },
   "outputs": [],
   "source": [
    "DT= DecisionTreeClassifier()\n",
    "scoring ={\"F1\":\"f1\", \"AUC\":make_scorer(roc_auc_score)}\n",
    "\n",
    "parameters={\n",
    "    'max_depth':[5,10,15,30,50,None]# maximum depth of the tree. none: tree goes as deep untill all leaves are pure or until all leaves contain less than min_samples_split samples.\n",
    "\n",
    "}\n",
    "cv=GridSearchCV(DT, parameters, cv=5, verbose=3,error_score='raise',scoring=scoring,refit=\"AUC\")\n",
    "cv.fit(train_features_tl_clean_trans_features_reduced,train_labels_tl.values.ravel())#ravel to convert to array gets error otherwise"
   ]
  },
  {
   "cell_type": "code",
   "execution_count": 106,
   "id": "a7777e43",
   "metadata": {},
   "outputs": [
    {
     "data": {
      "text/plain": [
       "DecisionTreeClassifier()"
      ]
     },
     "execution_count": 106,
     "metadata": {},
     "output_type": "execute_result"
    }
   ],
   "source": [
    "cv.best_estimator_"
   ]
  },
  {
   "cell_type": "code",
   "execution_count": 107,
   "id": "88803279",
   "metadata": {},
   "outputs": [
    {
     "data": {
      "text/plain": [
       "0.6126747580201328"
      ]
     },
     "execution_count": 107,
     "metadata": {},
     "output_type": "execute_result"
    }
   ],
   "source": [
    "cv.best_score_"
   ]
  },
  {
   "cell_type": "code",
   "execution_count": 108,
   "id": "8a230c74",
   "metadata": {},
   "outputs": [
    {
     "data": {
      "text/plain": [
       "['/Users/sarahalbadri/Desktop/Banking Dataset/partitioned dataset/TomekLinks/models/mdl19_train_features_tl_clean_trans_features_reduced_DT.pkl']"
      ]
     },
     "execution_count": 108,
     "metadata": {},
     "output_type": "execute_result"
    }
   ],
   "source": [
    "# write our pickled model\n",
    "joblib.dump(cv.best_estimator_,'.../.../.../.../TomekLinks/models/mdl19_train_features_tl_clean_trans_features_reduced_DT.pkl')"
   ]
  },
  {
   "cell_type": "markdown",
   "id": "4366ab3a",
   "metadata": {},
   "source": [
    "# Clean Capped Transformed Features"
   ]
  },
  {
   "cell_type": "code",
   "execution_count": 109,
   "id": "d3a0ca4e",
   "metadata": {},
   "outputs": [],
   "source": [
    "train_features_tl_clean_cap_tran_features= pd.read_csv(\".../.../.../.../TomekLinks/feature selection/train_features_tl_clean_cap_tran_features.csv\")\n",
    "train_labels_tl= pd.read_csv(\".../.../.../.../TomekLinks/train_labels_tl.csv\")"
   ]
  },
  {
   "cell_type": "code",
   "execution_count": null,
   "id": "b266c759",
   "metadata": {
    "scrolled": true
   },
   "outputs": [],
   "source": [
    "DT= DecisionTreeClassifier()\n",
    "scoring ={\"F1\":\"f1\", \"AUC\":make_scorer(roc_auc_score)}\n",
    "\n",
    "parameters={\n",
    "    'max_depth':[5,10,15,30,50,None]# maximum depth of the tree. none: tree goes as deep untill all leaves are pure or until all leaves contain less than min_samples_split samples.\n",
    "\n",
    "}\n",
    "cv=GridSearchCV(DT, parameters, cv=5, verbose=3,error_score='raise',scoring=scoring,refit=\"AUC\")\n",
    "cv.fit(train_features_tl_clean_cap_tran_features,train_labels_tl.values.ravel())#ravel to convert to array gets error otherwise"
   ]
  },
  {
   "cell_type": "code",
   "execution_count": 111,
   "id": "8a40a41b",
   "metadata": {},
   "outputs": [
    {
     "data": {
      "text/plain": [
       "DecisionTreeClassifier(max_depth=5)"
      ]
     },
     "execution_count": 111,
     "metadata": {},
     "output_type": "execute_result"
    }
   ],
   "source": [
    "cv.best_estimator_"
   ]
  },
  {
   "cell_type": "code",
   "execution_count": 112,
   "id": "4a8219fa",
   "metadata": {},
   "outputs": [
    {
     "data": {
      "text/plain": [
       "0.5444038043103225"
      ]
     },
     "execution_count": 112,
     "metadata": {},
     "output_type": "execute_result"
    }
   ],
   "source": [
    "cv.best_score_"
   ]
  },
  {
   "cell_type": "code",
   "execution_count": 113,
   "id": "9149246a",
   "metadata": {},
   "outputs": [
    {
     "data": {
      "text/plain": [
       "['/Users/sarahalbadri/Desktop/Banking Dataset/partitioned dataset/TomekLinks/models/mdl20_train_features_tl_clean_cap_tran_features_DT.pkl']"
      ]
     },
     "execution_count": 113,
     "metadata": {},
     "output_type": "execute_result"
    }
   ],
   "source": [
    "# write our pickled model\n",
    "joblib.dump(cv.best_estimator_,'.../.../.../.../TomekLinks/models/mdl20_train_features_tl_clean_cap_tran_features_DT.pkl')"
   ]
  },
  {
   "cell_type": "markdown",
   "id": "7aef8e3b",
   "metadata": {},
   "source": [
    "# Clean Cap Trans Features Reduced"
   ]
  },
  {
   "cell_type": "code",
   "execution_count": 114,
   "id": "717a3137",
   "metadata": {},
   "outputs": [],
   "source": [
    "train_features_tl_clean_cap_tran_features_reduced=pd.read_csv(\".../.../.../.../TomekLinks/feature selection/train_features_tl_clean_cap_tran_features_reduced.csv\")\n",
    "\n",
    "train_labels_tl= pd.read_csv(\".../.../.../.../TomekLinks/train_labels_tl.csv\")"
   ]
  },
  {
   "cell_type": "code",
   "execution_count": null,
   "id": "4c5842a8",
   "metadata": {
    "scrolled": true
   },
   "outputs": [],
   "source": [
    "DT= DecisionTreeClassifier()\n",
    "\n",
    "scoring ={\"F1\":\"f1\", \"AUC\":make_scorer(roc_auc_score)}\n",
    "\n",
    "parameters={\n",
    "    'max_depth':[5,10,15,30,50,None]# maximum depth of the tree. none: tree goes as deep untill all leaves are pure or until all leaves contain less than min_samples_split samples.\n",
    "\n",
    "}\n",
    "cv=GridSearchCV(DT, parameters, cv=5, verbose=3,error_score='raise',scoring=scoring,refit=\"AUC\")\n",
    "cv.fit(train_features_tl_clean_cap_tran_features_reduced,train_labels_tl.values.ravel())#ravel to convert to array gets error otherwise"
   ]
  },
  {
   "cell_type": "code",
   "execution_count": 116,
   "id": "aa08611c",
   "metadata": {},
   "outputs": [
    {
     "data": {
      "text/plain": [
       "DecisionTreeClassifier(max_depth=30)"
      ]
     },
     "execution_count": 116,
     "metadata": {},
     "output_type": "execute_result"
    }
   ],
   "source": [
    "cv.best_estimator_"
   ]
  },
  {
   "cell_type": "code",
   "execution_count": 117,
   "id": "8eaf225f",
   "metadata": {},
   "outputs": [
    {
     "data": {
      "text/plain": [
       "0.6061055316197732"
      ]
     },
     "execution_count": 117,
     "metadata": {},
     "output_type": "execute_result"
    }
   ],
   "source": [
    "cv.best_score_"
   ]
  },
  {
   "cell_type": "code",
   "execution_count": 118,
   "id": "f2a4b639",
   "metadata": {},
   "outputs": [
    {
     "data": {
      "text/plain": [
       "['/Users/sarahalbadri/Desktop/Banking Dataset/partitioned dataset/TomekLinks/models/mdl21_train_features_tl_clean_cap_tran_features_reduced_DT.pkl']"
      ]
     },
     "execution_count": 118,
     "metadata": {},
     "output_type": "execute_result"
    }
   ],
   "source": [
    "# write our pickled model\n",
    "joblib.dump(cv.best_estimator_,'.../.../.../.../TomekLinks/models/mdl21_train_features_tl_clean_cap_tran_features_reduced_DT.pkl')"
   ]
  },
  {
   "cell_type": "markdown",
   "id": "a5cdb1ce",
   "metadata": {},
   "source": [
    "# <font color =Green> Histogram Based Gradient Boosting"
   ]
  },
  {
   "cell_type": "markdown",
   "id": "068de133",
   "metadata": {},
   "source": [
    "# Original Features\n",
    "\n"
   ]
  },
  {
   "cell_type": "code",
   "execution_count": null,
   "id": "197fecc2",
   "metadata": {},
   "outputs": [],
   "source": [
    "HistGradientBoostingClassifier().get_params()"
   ]
  },
  {
   "cell_type": "code",
   "execution_count": 120,
   "id": "c1474af9",
   "metadata": {},
   "outputs": [],
   "source": [
    "# Original Features\n",
    "train_features_tl_original_features= pd.read_csv(\".../.../.../.../TomekLinks/feature selection/train_features_tl_original_features.csv\")\n",
    "train_labels_tl= pd.read_csv(\".../.../.../.../TomekLinks/train_labels_tl.csv\")"
   ]
  },
  {
   "cell_type": "code",
   "execution_count": null,
   "id": "86108b06",
   "metadata": {
    "scrolled": true
   },
   "outputs": [],
   "source": [
    "hgb = HistGradientBoostingClassifier()\n",
    "scoring ={\"F1\":\"f1\", \"AUC\":make_scorer(roc_auc_score)}\n",
    "parameters = {\n",
    "    'max_iter': [100, 250, 500,700,1000,1500],\n",
    "    'max_depth': [1, 3, 5, 7, 9],\n",
    "    'learning_rate': [0.01, 0.1, 1]\n",
    "}\n",
    "cv = GridSearchCV(hgb, parameters, cv=5, verbose=3, scoring=scoring,refit=\"AUC\")# set verbose to 3 to get detailed info \n",
    "cv.fit(train_features_tl_original_features, train_labels_tl.values.ravel())\n",
    "\n"
   ]
  },
  {
   "cell_type": "code",
   "execution_count": 122,
   "id": "03e6a55c",
   "metadata": {},
   "outputs": [
    {
     "data": {
      "text/plain": [
       "HistGradientBoostingClassifier(learning_rate=1, max_depth=1, max_iter=500)"
      ]
     },
     "execution_count": 122,
     "metadata": {},
     "output_type": "execute_result"
    }
   ],
   "source": [
    "cv.best_estimator_"
   ]
  },
  {
   "cell_type": "code",
   "execution_count": 123,
   "id": "e37857fe",
   "metadata": {},
   "outputs": [
    {
     "data": {
      "text/plain": [
       "0.5586438876817199"
      ]
     },
     "execution_count": 123,
     "metadata": {},
     "output_type": "execute_result"
    }
   ],
   "source": [
    "cv.best_score_"
   ]
  },
  {
   "cell_type": "code",
   "execution_count": 124,
   "id": "66e91dd2",
   "metadata": {},
   "outputs": [
    {
     "data": {
      "text/plain": [
       "['/Users/sarahalbadri/Desktop/Banking Dataset/partitioned dataset/TomekLinks/models/mdl22_train_features_tl_original_features_HGB.pkl']"
      ]
     },
     "execution_count": 124,
     "metadata": {},
     "output_type": "execute_result"
    }
   ],
   "source": [
    "joblib.dump(cv.best_estimator_,'.../.../.../.../partitioned dataset/TomekLinks/models/mdl22_train_features_tl_original_features_HGB.pkl')"
   ]
  },
  {
   "cell_type": "markdown",
   "id": "b3eed6a4",
   "metadata": {},
   "source": [
    "# Original Reduced\n",
    "\n"
   ]
  },
  {
   "cell_type": "code",
   "execution_count": 125,
   "id": "94688202",
   "metadata": {},
   "outputs": [],
   "source": [
    "# Original Reduced\n",
    "train_features_tl_original_reduced= pd.read_csv(\".../.../.../.../TomekLinks/feature selection/train_features_tl_original_reduced.csv\")\n",
    "train_labels_tl= pd.read_csv(\".../.../.../.../TomekLinks/train_labels_tl.csv\")"
   ]
  },
  {
   "cell_type": "code",
   "execution_count": null,
   "id": "f153175e",
   "metadata": {
    "scrolled": true
   },
   "outputs": [],
   "source": [
    "hgb = HistGradientBoostingClassifier()\n",
    "scoring ={\"F1\":\"f1\", \"AUC\":make_scorer(roc_auc_score)}\n",
    "parameters = {\n",
    "    'max_iter': [100, 250, 500,700,1000,1500],\n",
    "    'max_depth': [1, 3, 5, 7, 9],\n",
    "    'learning_rate': [0.01, 0.1, 1]\n",
    "}\n",
    "cv = GridSearchCV(hgb, parameters, cv=5, verbose=3, scoring=scoring,refit=\"AUC\")# set verbose to 3 to get detailed info \n",
    "cv.fit(train_features_tl_original_reduced, train_labels_tl.values.ravel())\n",
    "\n"
   ]
  },
  {
   "cell_type": "code",
   "execution_count": 127,
   "id": "e3099f28",
   "metadata": {},
   "outputs": [
    {
     "data": {
      "text/plain": [
       "HistGradientBoostingClassifier(max_depth=1, max_iter=1000)"
      ]
     },
     "execution_count": 127,
     "metadata": {},
     "output_type": "execute_result"
    }
   ],
   "source": [
    "cv.best_estimator_"
   ]
  },
  {
   "cell_type": "code",
   "execution_count": 128,
   "id": "8f128ae4",
   "metadata": {},
   "outputs": [
    {
     "data": {
      "text/plain": [
       "0.5286147327014483"
      ]
     },
     "execution_count": 128,
     "metadata": {},
     "output_type": "execute_result"
    }
   ],
   "source": [
    "cv.best_score_"
   ]
  },
  {
   "cell_type": "code",
   "execution_count": 129,
   "id": "19cc82b1",
   "metadata": {},
   "outputs": [
    {
     "data": {
      "text/plain": [
       "['/Users/sarahalbadri/Desktop/Banking Dataset/partitioned dataset/TomekLinks/models/mdl23_train_features_tl_original_reduced_HGB.pkl']"
      ]
     },
     "execution_count": 129,
     "metadata": {},
     "output_type": "execute_result"
    }
   ],
   "source": [
    "joblib.dump(cv.best_estimator_,'.../.../.../.../TomekLinks/models/mdl23_train_features_tl_original_reduced_HGB.pkl')"
   ]
  },
  {
   "cell_type": "markdown",
   "id": "a3bf6ea6",
   "metadata": {},
   "source": [
    "# Clean Capped Features\n",
    "\n"
   ]
  },
  {
   "cell_type": "code",
   "execution_count": 130,
   "id": "28ba90dc",
   "metadata": {},
   "outputs": [],
   "source": [
    "# Clean Capped Features\n",
    "train_features_tl_clean_capped_features = pd.read_csv(\".../.../.../.../TomekLinks/feature selection/train_features_tl_clean_capped_features.csv\")\n",
    "train_labels_tl= pd.read_csv(\".../.../.../.../TomekLinks/train_labels_tl.csv\") "
   ]
  },
  {
   "cell_type": "code",
   "execution_count": null,
   "id": "798373e1",
   "metadata": {
    "scrolled": true
   },
   "outputs": [],
   "source": [
    "hgb = HistGradientBoostingClassifier()\n",
    "scoring ={\"F1\":\"f1\", \"AUC\":make_scorer(roc_auc_score)}\n",
    "parameters = {\n",
    "    'max_iter': [100, 250, 500,700,1000,1500],\n",
    "    'max_depth': [1, 3, 5, 7, 9],\n",
    "    'learning_rate': [0.01, 0.1, 1]\n",
    "}\n",
    "cv = GridSearchCV(hgb, parameters, cv=5, verbose=3, scoring=scoring,refit=\"AUC\")# set verbose to 3 to get detailed info \n",
    "cv.fit(train_features_tl_clean_capped_features, train_labels_tl.values.ravel())\n",
    "\n"
   ]
  },
  {
   "cell_type": "code",
   "execution_count": 132,
   "id": "4725302e",
   "metadata": {},
   "outputs": [
    {
     "data": {
      "text/plain": [
       "HistGradientBoostingClassifier(learning_rate=1, max_depth=9, max_iter=250)"
      ]
     },
     "execution_count": 132,
     "metadata": {},
     "output_type": "execute_result"
    }
   ],
   "source": [
    "cv.best_estimator_"
   ]
  },
  {
   "cell_type": "code",
   "execution_count": 133,
   "id": "4d8128da",
   "metadata": {},
   "outputs": [
    {
     "data": {
      "text/plain": [
       "0.6349028083033507"
      ]
     },
     "execution_count": 133,
     "metadata": {},
     "output_type": "execute_result"
    }
   ],
   "source": [
    "cv.best_score_"
   ]
  },
  {
   "cell_type": "code",
   "execution_count": 134,
   "id": "37184616",
   "metadata": {},
   "outputs": [
    {
     "data": {
      "text/plain": [
       "['/Users/sarahalbadri/Desktop/Banking Dataset/partitioned dataset/TomekLinks/models/mdl24_train_features_tl_clean_capped_features_HGB.pkl']"
      ]
     },
     "execution_count": 134,
     "metadata": {},
     "output_type": "execute_result"
    }
   ],
   "source": [
    "joblib.dump(cv.best_estimator_,'.../.../.../.../TomekLinks/models/mdl24_train_features_tl_clean_capped_features_HGB.pkl')"
   ]
  },
  {
   "cell_type": "markdown",
   "id": "fdcbcde0",
   "metadata": {},
   "source": [
    "# clean transformed features"
   ]
  },
  {
   "cell_type": "code",
   "execution_count": 136,
   "id": "ff7b1871",
   "metadata": {},
   "outputs": [],
   "source": [
    "# clean transformed features\n",
    "train_features_tl_clean_trans_features= pd.read_csv(\".../.../.../.../TomekLinks/feature selection/train_features_tl_clean_trans_features.csv\")\n",
    "train_labels_tl= pd.read_csv(\".../.../.../.../TomekLinks/train_labels_tl.csv\")"
   ]
  },
  {
   "cell_type": "code",
   "execution_count": null,
   "id": "6dd1f14e",
   "metadata": {
    "scrolled": true
   },
   "outputs": [],
   "source": [
    "hgb = HistGradientBoostingClassifier()\n",
    "scoring ={\"F1\":\"f1\", \"AUC\":make_scorer(roc_auc_score)}\n",
    "parameters = {\n",
    "    'max_iter': [100, 250, 500,700,1000,1500],\n",
    "    'max_depth': [1, 3, 5, 7, 9],\n",
    "    'learning_rate': [0.01, 0.1, 1]\n",
    "}\n",
    "cv = GridSearchCV(hgb, parameters, cv=5, verbose=3, scoring=scoring,refit=\"AUC\")# set verbose to 3 to get detailed info \n",
    "cv.fit(train_features_tl_clean_trans_features, train_labels_tl.values.ravel())\n",
    "\n"
   ]
  },
  {
   "cell_type": "code",
   "execution_count": 138,
   "id": "4ed3fe25",
   "metadata": {},
   "outputs": [
    {
     "data": {
      "text/plain": [
       "HistGradientBoostingClassifier(learning_rate=1, max_depth=1)"
      ]
     },
     "execution_count": 138,
     "metadata": {},
     "output_type": "execute_result"
    }
   ],
   "source": [
    "cv.best_estimator_"
   ]
  },
  {
   "cell_type": "code",
   "execution_count": 139,
   "id": "8ba1208f",
   "metadata": {},
   "outputs": [
    {
     "data": {
      "text/plain": [
       "0.5587690525431455"
      ]
     },
     "execution_count": 139,
     "metadata": {},
     "output_type": "execute_result"
    }
   ],
   "source": [
    "cv.best_score_"
   ]
  },
  {
   "cell_type": "code",
   "execution_count": 140,
   "id": "7804c407",
   "metadata": {},
   "outputs": [
    {
     "data": {
      "text/plain": [
       "['/Users/sarahalbadri/Desktop/Banking Dataset/partitioned dataset/TomekLinks/models/mdl25_train_features_tl_clean_trans_features_HGB.pkl']"
      ]
     },
     "execution_count": 140,
     "metadata": {},
     "output_type": "execute_result"
    }
   ],
   "source": [
    "joblib.dump(cv.best_estimator_,'.../.../.../.../TomekLinks/models/mdl25_train_features_tl_clean_trans_features_HGB.pkl')"
   ]
  },
  {
   "cell_type": "markdown",
   "id": "06f75fad",
   "metadata": {},
   "source": [
    "# Clean Transformed Features Reduced¶"
   ]
  },
  {
   "cell_type": "code",
   "execution_count": 141,
   "id": "1730cdf3",
   "metadata": {},
   "outputs": [],
   "source": [
    "# Clean Transformed Features Reduced\n",
    "train_features_tl_clean_trans_features_reduced = pd.read_csv(\".../.../.../.../TomekLinks/feature selection/train_features_tl_clean_trans_features_reduced.csv\")\n",
    "train_labels_tl= pd.read_csv(\".../.../.../.../TomekLinks/train_labels_tl.csv\")"
   ]
  },
  {
   "cell_type": "code",
   "execution_count": null,
   "id": "bdf653e3",
   "metadata": {
    "scrolled": true
   },
   "outputs": [],
   "source": [
    "hgb = HistGradientBoostingClassifier()\n",
    "scoring ={\"F1\":\"f1\", \"AUC\":make_scorer(roc_auc_score)}\n",
    "parameters = {\n",
    "    'max_iter': [100, 250, 500,700,1000,1500],\n",
    "    'max_depth': [1, 3, 5, 7, 9],\n",
    "    'learning_rate': [0.01, 0.1, 1]\n",
    "}\n",
    "cv = GridSearchCV(hgb, parameters, cv=5, verbose=3, scoring=scoring,refit=\"AUC\")# set verbose to 3 to get detailed info \n",
    "cv.fit(train_features_tl_clean_trans_features_reduced, train_labels_tl.values.ravel())\n",
    "\n"
   ]
  },
  {
   "cell_type": "code",
   "execution_count": 143,
   "id": "66e37a07",
   "metadata": {},
   "outputs": [
    {
     "data": {
      "text/plain": [
       "HistGradientBoostingClassifier(learning_rate=1, max_depth=1, max_iter=700)"
      ]
     },
     "execution_count": 143,
     "metadata": {},
     "output_type": "execute_result"
    }
   ],
   "source": [
    "cv.best_estimator_"
   ]
  },
  {
   "cell_type": "code",
   "execution_count": 144,
   "id": "f8abb938",
   "metadata": {},
   "outputs": [
    {
     "data": {
      "text/plain": [
       "0.6147019262127148"
      ]
     },
     "execution_count": 144,
     "metadata": {},
     "output_type": "execute_result"
    }
   ],
   "source": [
    "cv.best_score_"
   ]
  },
  {
   "cell_type": "code",
   "execution_count": 145,
   "id": "cfec869a",
   "metadata": {},
   "outputs": [
    {
     "data": {
      "text/plain": [
       "['/Users/sarahalbadri/Desktop/Banking Dataset/partitioned dataset/TomekLinks/models/mdl26_train_features_tl_clean_trans_features_reduced_HGB.pkl']"
      ]
     },
     "execution_count": 145,
     "metadata": {},
     "output_type": "execute_result"
    }
   ],
   "source": [
    "joblib.dump(cv.best_estimator_,'.../.../.../.../TomekLinks/models/mdl26_train_features_tl_clean_trans_features_reduced_HGB.pkl')"
   ]
  },
  {
   "cell_type": "markdown",
   "id": "58853c05",
   "metadata": {},
   "source": [
    "# Clean Capped Transformed Features"
   ]
  },
  {
   "cell_type": "code",
   "execution_count": 146,
   "id": "56c78542",
   "metadata": {},
   "outputs": [],
   "source": [
    "# Clean Capped Transformed Features\n",
    "\n",
    "train_features_tl_clean_cap_tran_features= pd.read_csv(\".../.../.../.../TomekLinks/feature selection/train_features_tl_clean_cap_tran_features.csv\")\n",
    "train_labels_tl= pd.read_csv(\".../.../.../.../TomekLinks/train_labels_tl.csv\")"
   ]
  },
  {
   "cell_type": "code",
   "execution_count": null,
   "id": "662acdb7",
   "metadata": {
    "scrolled": true
   },
   "outputs": [],
   "source": [
    "hgb = HistGradientBoostingClassifier()\n",
    "scoring ={\"F1\":\"f1\", \"AUC\":make_scorer(roc_auc_score)}\n",
    "parameters = {\n",
    "    'max_iter': [100, 250, 500,700,1000,1500],\n",
    "    'max_depth': [1, 3, 5, 7, 9],\n",
    "    'learning_rate': [0.01, 0.1, 1]\n",
    "}\n",
    "cv = GridSearchCV(hgb, parameters, cv=5, verbose=3, scoring=scoring,refit=\"AUC\")# set verbose to 3 to get detailed info \n",
    "cv.fit(train_features_tl_clean_cap_tran_features, train_labels_tl.values.ravel())\n",
    "\n"
   ]
  },
  {
   "cell_type": "code",
   "execution_count": 148,
   "id": "8c75c902",
   "metadata": {},
   "outputs": [
    {
     "data": {
      "text/plain": [
       "HistGradientBoostingClassifier(learning_rate=1, max_depth=1, max_iter=250)"
      ]
     },
     "execution_count": 148,
     "metadata": {},
     "output_type": "execute_result"
    }
   ],
   "source": [
    "cv.best_estimator_"
   ]
  },
  {
   "cell_type": "code",
   "execution_count": 149,
   "id": "07cb22b7",
   "metadata": {},
   "outputs": [
    {
     "data": {
      "text/plain": [
       "0.559559716083439"
      ]
     },
     "execution_count": 149,
     "metadata": {},
     "output_type": "execute_result"
    }
   ],
   "source": [
    "cv.best_score_"
   ]
  },
  {
   "cell_type": "code",
   "execution_count": 150,
   "id": "7e5de982",
   "metadata": {},
   "outputs": [
    {
     "data": {
      "text/plain": [
       "['/Users/sarahalbadri/Desktop/Banking Dataset/partitioned dataset/TomekLinks/models/mdl27_train_features_tl_clean_cap_tran_features_HGB.pkl']"
      ]
     },
     "execution_count": 150,
     "metadata": {},
     "output_type": "execute_result"
    }
   ],
   "source": [
    "joblib.dump(cv.best_estimator_,'.../.../.../.../models/mdl27_train_features_tl_clean_cap_tran_features_HGB.pkl')"
   ]
  },
  {
   "cell_type": "markdown",
   "id": "21c5078d",
   "metadata": {},
   "source": [
    "# Clean Cap Trans Features Reduced"
   ]
  },
  {
   "cell_type": "code",
   "execution_count": 151,
   "id": "eda73e5f",
   "metadata": {},
   "outputs": [],
   "source": [
    "# Clean Cap Trans Features Reduced\n",
    "train_features_tl_clean_cap_tran_features_reduced= pd.read_csv(\".../.../.../.../TomekLinks/feature selection/train_features_tl_clean_cap_tran_features_reduced.csv\")\n",
    "train_labels_tl= pd.read_csv(\".../.../.../.../TomekLinks/train_labels_tl.csv\")"
   ]
  },
  {
   "cell_type": "code",
   "execution_count": null,
   "id": "9a509ae9",
   "metadata": {
    "scrolled": true
   },
   "outputs": [],
   "source": [
    "hgb = HistGradientBoostingClassifier()\n",
    "scoring ={\"F1\":\"f1\", \"AUC\":make_scorer(roc_auc_score)}\n",
    "parameters = {\n",
    "    'max_iter': [100, 250, 500,700,1000,1500],\n",
    "    'max_depth': [1, 3, 5, 7, 9],\n",
    "    'learning_rate': [0.01, 0.1, 1]\n",
    "}\n",
    "cv = GridSearchCV(hgb, parameters, cv=5, verbose=3, scoring=scoring,refit=\"AUC\")# set verbose to 3 to get detailed info \n",
    "cv.fit(train_features_tl_clean_cap_tran_features_reduced, train_labels_tl.values.ravel())\n",
    "\n"
   ]
  },
  {
   "cell_type": "code",
   "execution_count": 153,
   "id": "965ad38a",
   "metadata": {},
   "outputs": [
    {
     "data": {
      "text/plain": [
       "HistGradientBoostingClassifier(learning_rate=1, max_depth=1, max_iter=250)"
      ]
     },
     "execution_count": 153,
     "metadata": {},
     "output_type": "execute_result"
    }
   ],
   "source": [
    "cv.best_estimator_"
   ]
  },
  {
   "cell_type": "code",
   "execution_count": 154,
   "id": "d4e3a2a4",
   "metadata": {},
   "outputs": [
    {
     "data": {
      "text/plain": [
       "0.6087632156698591"
      ]
     },
     "execution_count": 154,
     "metadata": {},
     "output_type": "execute_result"
    }
   ],
   "source": [
    "cv.best_score_"
   ]
  },
  {
   "cell_type": "code",
   "execution_count": 155,
   "id": "868f22d7",
   "metadata": {},
   "outputs": [
    {
     "data": {
      "text/plain": [
       "['/Users/sarahalbadri/Desktop/Banking Dataset/partitioned dataset/TomekLinks/models/mdl28_train_features_tl_clean_cap_tran_features_reduced_HGB.pkl']"
      ]
     },
     "execution_count": 155,
     "metadata": {},
     "output_type": "execute_result"
    }
   ],
   "source": [
    "joblib.dump(cv.best_estimator_,'.../.../.../.../TomekLinks/models/mdl28_train_features_tl_clean_cap_tran_features_reduced_HGB.pkl')"
   ]
  },
  {
   "cell_type": "markdown",
   "id": "59ee32ec",
   "metadata": {},
   "source": [
    "# <font color =Green> Random Forest"
   ]
  },
  {
   "cell_type": "code",
   "execution_count": null,
   "id": "d3df7e3e",
   "metadata": {},
   "outputs": [],
   "source": [
    "RandomForestClassifier().get_params()"
   ]
  },
  {
   "cell_type": "markdown",
   "id": "4c988c95",
   "metadata": {},
   "source": [
    "# Original Features"
   ]
  },
  {
   "cell_type": "code",
   "execution_count": 157,
   "id": "678e3ae4",
   "metadata": {},
   "outputs": [],
   "source": [
    "train_features_tl_original_features= pd.read_csv(\".../.../.../.../train_features_tl_original_features.csv\")\n",
    "train_labels_tl= pd.read_csv(\".../.../.../.../TomekLinks/train_labels_tl.csv\")"
   ]
  },
  {
   "cell_type": "code",
   "execution_count": null,
   "id": "78d0358f",
   "metadata": {
    "scrolled": true
   },
   "outputs": [],
   "source": [
    "RF= RandomForestClassifier()\n",
    "scoring ={\"F1\":\"f1\", \"AUC\":make_scorer(roc_auc_score)}\n",
    "parameters={\n",
    "    'n_estimators':[100,250,500],#number of trees in the forest(default =100)\n",
    "    'max_depth':[7,10,None],# max depth of tree. none:nodes are expanding until all leaves are pure or contain less than min samples_split samples\n",
    "    'bootstrap':[True,False],# whether bootstrap samples are used when building trees. false whole dataset is used to build each tree (default:true)\n",
    "    'min_samples_split':[2,3,4]\n",
    "}\n",
    "\n",
    "cv=GridSearchCV(RF, parameters, cv=5, verbose=3,error_score='raise', scoring=scoring,refit=\"AUC\")\n",
    "cv.fit(train_features_tl_original_features,train_labels_tl.values.ravel())#ravel to convert to array gets error otherwise"
   ]
  },
  {
   "cell_type": "code",
   "execution_count": 159,
   "id": "78e89a46",
   "metadata": {},
   "outputs": [
    {
     "data": {
      "text/plain": [
       "RandomForestClassifier(min_samples_split=4, n_estimators=250)"
      ]
     },
     "execution_count": 159,
     "metadata": {},
     "output_type": "execute_result"
    }
   ],
   "source": [
    "cv.best_estimator_"
   ]
  },
  {
   "cell_type": "code",
   "execution_count": 160,
   "id": "fbd1f8c0",
   "metadata": {},
   "outputs": [
    {
     "data": {
      "text/plain": [
       "0.5113140708908828"
      ]
     },
     "execution_count": 160,
     "metadata": {},
     "output_type": "execute_result"
    }
   ],
   "source": [
    "cv.best_score_"
   ]
  },
  {
   "cell_type": "code",
   "execution_count": 161,
   "id": "069215b5",
   "metadata": {},
   "outputs": [
    {
     "data": {
      "text/plain": [
       "['/Users/sarahalbadri/Desktop/Banking Dataset/partitioned dataset/TomekLinks/models/mdl29_train_features_tl_original_features_RF.pkl']"
      ]
     },
     "execution_count": 161,
     "metadata": {},
     "output_type": "execute_result"
    }
   ],
   "source": [
    "# write our pickled model\n",
    "joblib.dump(cv.best_estimator_,'.../.../.../.../TomekLinks/models/mdl29_train_features_tl_original_features_RF.pkl')"
   ]
  },
  {
   "cell_type": "markdown",
   "id": "8c7a9eca",
   "metadata": {},
   "source": [
    "# Original Reduced"
   ]
  },
  {
   "cell_type": "code",
   "execution_count": 162,
   "id": "fb9b46f7",
   "metadata": {},
   "outputs": [],
   "source": [
    "# Original Reduced\n",
    "train_features_tl_original_reduced= pd.read_csv(\".../.../.../.../TomekLinks/feature selection/train_features_tl_original_reduced.csv\")\n",
    "train_labels_tl= pd.read_csv(\".../.../.../.../TomekLinks/train_labels_tl.csv\")"
   ]
  },
  {
   "cell_type": "code",
   "execution_count": null,
   "id": "9ccef768",
   "metadata": {},
   "outputs": [],
   "source": [
    "RF= RandomForestClassifier()\n",
    "scoring ={\"F1\":\"f1\", \"AUC\":make_scorer(roc_auc_score)}\n",
    "parameters={\n",
    "    'n_estimators':[100,250,500],#number of trees in the forest(default =100)\n",
    "    'max_depth':[7,10,None],# max depth of tree. none:nodes are expanding until all leaves are pure or contain less than min samples_split samples\n",
    "    'bootstrap':[True,False],# whether bootstrap samples are used when building trees. false whole dataset is used to build each tree (default:true)\n",
    "    'min_samples_split':[2,3,4]\n",
    "}\n",
    "\n",
    "cv=GridSearchCV(RF, parameters, cv=5, verbose=3,error_score='raise', scoring=scoring,refit=\"AUC\")\n",
    "cv.fit(train_features_tl_original_reduced,train_labels_tl.values.ravel())#ravel to convert to array gets error otherwise"
   ]
  },
  {
   "cell_type": "code",
   "execution_count": 164,
   "id": "34c96a08",
   "metadata": {},
   "outputs": [
    {
     "data": {
      "text/plain": [
       "RandomForestClassifier(bootstrap=False, min_samples_split=4, n_estimators=250)"
      ]
     },
     "execution_count": 164,
     "metadata": {},
     "output_type": "execute_result"
    }
   ],
   "source": [
    "cv.best_estimator_"
   ]
  },
  {
   "cell_type": "code",
   "execution_count": 165,
   "id": "ad831dea",
   "metadata": {},
   "outputs": [
    {
     "data": {
      "text/plain": [
       "0.48745039917702526"
      ]
     },
     "execution_count": 165,
     "metadata": {},
     "output_type": "execute_result"
    }
   ],
   "source": [
    "cv.best_score_"
   ]
  },
  {
   "cell_type": "code",
   "execution_count": 166,
   "id": "ab617f8f",
   "metadata": {},
   "outputs": [
    {
     "data": {
      "text/plain": [
       "['/Users/sarahalbadri/Desktop/Banking Dataset/partitioned dataset/TomekLinks/models/mdl30_train_features_tl_original_reduced_RF.pkl']"
      ]
     },
     "execution_count": 166,
     "metadata": {},
     "output_type": "execute_result"
    }
   ],
   "source": [
    "# write our pickled model\n",
    "joblib.dump(cv.best_estimator_,'.../.../.../.../TomekLinks/models/mdl30_train_features_tl_original_reduced_RF.pkl')"
   ]
  },
  {
   "cell_type": "markdown",
   "id": "19d68f16",
   "metadata": {},
   "source": [
    "# Clean Capped Features"
   ]
  },
  {
   "cell_type": "code",
   "execution_count": 167,
   "id": "636c9eeb",
   "metadata": {},
   "outputs": [],
   "source": [
    "# Clean Capped Features\n",
    "train_features_tl_clean_capped_features = pd.read_csv(\".../.../.../.../TomekLinks/feature selection/train_features_tl_clean_capped_features.csv\")\n",
    "train_labels_tl= pd.read_csv(\".../.../.../.../TomekLinks/train_labels_tl.csv\")"
   ]
  },
  {
   "cell_type": "code",
   "execution_count": null,
   "id": "7443cf18",
   "metadata": {
    "scrolled": true
   },
   "outputs": [],
   "source": [
    "RF= RandomForestClassifier()\n",
    "scoring ={\"F1\":\"f1\", \"AUC\":make_scorer(roc_auc_score)}\n",
    "parameters={\n",
    "    'n_estimators':[100,250,500],#number of trees in the forest(default =100)\n",
    "    'max_depth':[7,10,None],# max depth of tree. none:nodes are expanding until all leaves are pure or contain less than min samples_split samples\n",
    "    'bootstrap':[True,False],# whether bootstrap samples are used when building trees. false whole dataset is used to build each tree (default:true)\n",
    "    'min_samples_split':[2,3,4]\n",
    "}\n",
    "cv=GridSearchCV(RF, parameters, cv=5, verbose=3,error_score='raise',scoring=scoring,refit=\"AUC\")\n",
    "cv.fit(train_features_tl_clean_capped_features,train_labels_tl.values.ravel())#ravel to convert to array gets error otherwise"
   ]
  },
  {
   "cell_type": "code",
   "execution_count": 169,
   "id": "7c599988",
   "metadata": {},
   "outputs": [
    {
     "data": {
      "text/plain": [
       "RandomForestClassifier(bootstrap=False, n_estimators=500)"
      ]
     },
     "execution_count": 169,
     "metadata": {},
     "output_type": "execute_result"
    }
   ],
   "source": [
    "cv.best_estimator_"
   ]
  },
  {
   "cell_type": "code",
   "execution_count": 170,
   "id": "2f880147",
   "metadata": {},
   "outputs": [
    {
     "data": {
      "text/plain": [
       "0.6298954556659414"
      ]
     },
     "execution_count": 170,
     "metadata": {},
     "output_type": "execute_result"
    }
   ],
   "source": [
    "cv.best_score_"
   ]
  },
  {
   "cell_type": "code",
   "execution_count": 171,
   "id": "b4ccde5a",
   "metadata": {},
   "outputs": [
    {
     "data": {
      "text/plain": [
       "['/Users/sarahalbadri/Desktop/Banking Dataset/partitioned dataset/TomekLinks/models/mdl31_train_features_tl_clean_capped_features_RF.pkl']"
      ]
     },
     "execution_count": 171,
     "metadata": {},
     "output_type": "execute_result"
    }
   ],
   "source": [
    "# write our pickled model\n",
    "joblib.dump(cv.best_estimator_,'.../.../.../.../TomekLinks/models/mdl31_train_features_tl_clean_capped_features_RF.pkl')"
   ]
  },
  {
   "cell_type": "markdown",
   "id": "b3ac7271",
   "metadata": {},
   "source": [
    "# clean transformed features"
   ]
  },
  {
   "cell_type": "code",
   "execution_count": 173,
   "id": "dc3e9003",
   "metadata": {},
   "outputs": [],
   "source": [
    "# clean transformed features\n",
    "train_features_tl_clean_trans_features= pd.read_csv(\".../.../.../.../TomekLinks/feature selection/train_features_tl_clean_trans_features.csv\")\n",
    "train_labels_tl= pd.read_csv(\".../.../.../.../TomekLinks/train_labels_tl.csv\")"
   ]
  },
  {
   "cell_type": "code",
   "execution_count": null,
   "id": "556752a9",
   "metadata": {
    "scrolled": true
   },
   "outputs": [],
   "source": [
    "RF= RandomForestClassifier()\n",
    "scoring ={\"F1\":\"f1\", \"AUC\":make_scorer(roc_auc_score)}\n",
    "parameters={\n",
    "    'n_estimators':[100,250,500],#number of trees in the forest(default =100)\n",
    "    'max_depth':[7,10,None],# max depth of tree. none:nodes are expanding until all leaves are pure or contain less than min samples_split samples\n",
    "    'bootstrap':[True,False],# whether bootstrap samples are used when building trees. false whole dataset is used to build each tree (default:true)\n",
    "    'min_samples_split':[2,3,4]\n",
    "}\n",
    "\n",
    "cv=GridSearchCV(RF, parameters, cv=5, verbose=3,error_score='raise', scoring=scoring,refit=\"AUC\")\n",
    "cv.fit(train_features_tl_clean_trans_features,train_labels_tl.values.ravel())#ravel to convert to array gets error otherwise"
   ]
  },
  {
   "cell_type": "code",
   "execution_count": 175,
   "id": "5a78d3ed",
   "metadata": {},
   "outputs": [
    {
     "data": {
      "text/plain": [
       "RandomForestClassifier(n_estimators=500)"
      ]
     },
     "execution_count": 175,
     "metadata": {},
     "output_type": "execute_result"
    }
   ],
   "source": [
    "cv.best_estimator_"
   ]
  },
  {
   "cell_type": "code",
   "execution_count": 176,
   "id": "5fc3bb7d",
   "metadata": {},
   "outputs": [
    {
     "data": {
      "text/plain": [
       "0.510823190807965"
      ]
     },
     "execution_count": 176,
     "metadata": {},
     "output_type": "execute_result"
    }
   ],
   "source": [
    "cv.best_score_"
   ]
  },
  {
   "cell_type": "code",
   "execution_count": 177,
   "id": "06f9868b",
   "metadata": {},
   "outputs": [
    {
     "data": {
      "text/plain": [
       "['/Users/sarahalbadri/Desktop/Banking Dataset/partitioned dataset/TomekLinks/models/mdl32_train_features_tl_clean_trans_features_RF.pkl']"
      ]
     },
     "execution_count": 177,
     "metadata": {},
     "output_type": "execute_result"
    }
   ],
   "source": [
    "# write our pickled model\n",
    "joblib.dump(cv.best_estimator_,'.../.../.../.../TomekLinks/models/mdl32_train_features_tl_clean_trans_features_RF.pkl')"
   ]
  },
  {
   "cell_type": "markdown",
   "id": "dd48b4bb",
   "metadata": {},
   "source": [
    "# Clean Transformed Features Reduced"
   ]
  },
  {
   "cell_type": "code",
   "execution_count": 178,
   "id": "d9231bff",
   "metadata": {},
   "outputs": [],
   "source": [
    "# Clean Transformed Features Reduced\n",
    "train_features_tl_clean_trans_features_reduced = pd.read_csv(\".../.../.../.../TomekLinks/feature selection/train_features_tl_clean_trans_features_reduced.csv\")\n",
    "train_labels_tl= pd.read_csv(\".../.../.../.../partitioned dataset/TomekLinks/train_labels_tl.csv\")"
   ]
  },
  {
   "cell_type": "code",
   "execution_count": null,
   "id": "a9ef386f",
   "metadata": {
    "scrolled": true
   },
   "outputs": [],
   "source": [
    "RF= RandomForestClassifier()\n",
    "scoring ={\"F1\":\"f1\", \"AUC\":make_scorer(roc_auc_score)}\n",
    "parameters={\n",
    "    'n_estimators':[100,250,500],#number of trees in the forest(default =100)\n",
    "    'max_depth':[7,10,None],# max depth of tree. none:nodes are expanding until all leaves are pure or contain less than min samples_split samples\n",
    "    'bootstrap':[True,False],# whether bootstrap samples are used when building trees. false whole dataset is used to build each tree (default:true)\n",
    "    'min_samples_split':[2,3,4]\n",
    "}\n",
    "\n",
    "cv=GridSearchCV(RF, parameters, cv=5, verbose=3,error_score='raise', scoring=scoring,refit=\"AUC\")\n",
    "cv.fit(train_features_tl_clean_trans_features_reduced,train_labels_tl.values.ravel())#ravel to convert to array gets error otherwise"
   ]
  },
  {
   "cell_type": "code",
   "execution_count": 180,
   "id": "21444635",
   "metadata": {},
   "outputs": [
    {
     "data": {
      "text/plain": [
       "RandomForestClassifier(bootstrap=False)"
      ]
     },
     "execution_count": 180,
     "metadata": {},
     "output_type": "execute_result"
    }
   ],
   "source": [
    "cv.best_estimator_"
   ]
  },
  {
   "cell_type": "code",
   "execution_count": 181,
   "id": "b9ff36c4",
   "metadata": {},
   "outputs": [
    {
     "data": {
      "text/plain": [
       "0.6154822870371732"
      ]
     },
     "execution_count": 181,
     "metadata": {},
     "output_type": "execute_result"
    }
   ],
   "source": [
    "cv.best_score_"
   ]
  },
  {
   "cell_type": "code",
   "execution_count": 182,
   "id": "0dafa108",
   "metadata": {},
   "outputs": [
    {
     "data": {
      "text/plain": [
       "['/Users/sarahalbadri/Desktop/Banking Dataset/partitioned dataset/TomekLinks/models/mdl33_train_features_tl_clean_trans_features_reduced_RF.pkl']"
      ]
     },
     "execution_count": 182,
     "metadata": {},
     "output_type": "execute_result"
    }
   ],
   "source": [
    "# write our pickled model\n",
    "joblib.dump(cv.best_estimator_,'.../.../.../.../TomekLinks/models/mdl33_train_features_tl_clean_trans_features_reduced_RF.pkl')"
   ]
  },
  {
   "cell_type": "markdown",
   "id": "b6d4e782",
   "metadata": {},
   "source": [
    "# Clean Capped Transformed Features"
   ]
  },
  {
   "cell_type": "code",
   "execution_count": 183,
   "id": "5070d5b8",
   "metadata": {},
   "outputs": [],
   "source": [
    "# Clean Capped Transformed Features\n",
    "train_features_tl_clean_cap_tran_features= pd.read_csv(\" .../.../.../.../TomekLinks/feature selection/train_features_tl_clean_cap_tran_features.csv\")\n",
    "train_labels_tl= pd.read_csv(\".../.../.../.../TomekLinks/train_labels_tl.csv\")"
   ]
  },
  {
   "cell_type": "code",
   "execution_count": null,
   "id": "e3784f6d",
   "metadata": {
    "scrolled": true
   },
   "outputs": [],
   "source": [
    "RF= RandomForestClassifier()\n",
    "scoring ={\"F1\":\"f1\", \"AUC\":make_scorer(roc_auc_score)}\n",
    "parameters={\n",
    "    'n_estimators':[100,250,500],#number of trees in the forest(default =100)\n",
    "    'max_depth':[7,10,None],# max depth of tree. none:nodes are expanding until all leaves are pure or contain less than min samples_split samples\n",
    "    'bootstrap':[True,False],# whether bootstrap samples are used when building trees. false whole dataset is used to build each tree (default:true)\n",
    "    'min_samples_split':[2,3,4]\n",
    "}\n",
    "\n",
    "cv=GridSearchCV(RF, parameters, cv=5, verbose=3,error_score='raise', scoring=scoring,refit=\"AUC\")\n",
    "cv.fit(train_features_tl_clean_cap_tran_features,train_labels_tl.values.ravel())#ravel to convert to array gets error otherwise"
   ]
  },
  {
   "cell_type": "code",
   "execution_count": 185,
   "id": "c10cb79f",
   "metadata": {},
   "outputs": [
    {
     "data": {
      "text/plain": [
       "RandomForestClassifier(min_samples_split=3)"
      ]
     },
     "execution_count": 185,
     "metadata": {},
     "output_type": "execute_result"
    }
   ],
   "source": [
    "cv.best_estimator_"
   ]
  },
  {
   "cell_type": "code",
   "execution_count": 186,
   "id": "3af204ad",
   "metadata": {},
   "outputs": [
    {
     "data": {
      "text/plain": [
       "0.5100417757586617"
      ]
     },
     "execution_count": 186,
     "metadata": {},
     "output_type": "execute_result"
    }
   ],
   "source": [
    "cv.best_score_"
   ]
  },
  {
   "cell_type": "code",
   "execution_count": 187,
   "id": "0c5eea80",
   "metadata": {},
   "outputs": [
    {
     "data": {
      "text/plain": [
       "['/Users/sarahalbadri/Desktop/Banking Dataset/partitioned dataset/TomekLinks/models/mdl34_train_features_tl_clean_cap_tran_features_RF.pkl']"
      ]
     },
     "execution_count": 187,
     "metadata": {},
     "output_type": "execute_result"
    }
   ],
   "source": [
    "# write our pickled model\n",
    "joblib.dump(cv.best_estimator_,'.../.../.../.../TomekLinks/models/mdl34_train_features_tl_clean_cap_tran_features_RF.pkl')"
   ]
  },
  {
   "cell_type": "markdown",
   "id": "3a15358e",
   "metadata": {},
   "source": [
    "# Clean Cap Trans Features Reduced"
   ]
  },
  {
   "cell_type": "code",
   "execution_count": 188,
   "id": "c71b89c9",
   "metadata": {},
   "outputs": [],
   "source": [
    "# Clean Cap Trans Features Reduced\n",
    "train_features_tl_clean_cap_tran_features_reduced= pd.read_csv(\".../.../.../.../TomekLinks/feature selection/train_features_tl_clean_cap_tran_features_reduced.csv\")\n",
    "train_labels_tl= pd.read_csv(\".../.../.../.../TomekLinks/train_labels_tl.csv\")"
   ]
  },
  {
   "cell_type": "code",
   "execution_count": null,
   "id": "a7891c59",
   "metadata": {
    "scrolled": true
   },
   "outputs": [],
   "source": [
    "RF= RandomForestClassifier()\n",
    "scoring ={\"F1\":\"f1\", \"AUC\":make_scorer(roc_auc_score)}\n",
    "parameters={\n",
    "    'n_estimators':[100,250,500],#number of trees in the forest(default =100)\n",
    "    'max_depth':[7,10,None],# max depth of tree. none:nodes are expanding until all leaves are pure or contain less than min samples_split samples\n",
    "    'bootstrap':[True,False],# whether bootstrap samples are used when building trees. false whole dataset is used to build each tree (default:true)\n",
    "    'min_samples_split':[2,3,4]\n",
    "}\n",
    "\n",
    "cv=GridSearchCV(RF, parameters, cv=5, verbose=3,error_score='raise', scoring=scoring,refit=\"AUC\")\n",
    "cv.fit(train_features_tl_clean_cap_tran_features_reduced,train_labels_tl.values.ravel())#ravel to convert to array gets error otherwise"
   ]
  },
  {
   "cell_type": "code",
   "execution_count": 190,
   "id": "c5bcdc12",
   "metadata": {},
   "outputs": [
    {
     "data": {
      "text/plain": [
       "RandomForestClassifier(bootstrap=False, n_estimators=500)"
      ]
     },
     "execution_count": 190,
     "metadata": {},
     "output_type": "execute_result"
    }
   ],
   "source": [
    "cv.best_estimator_"
   ]
  },
  {
   "cell_type": "code",
   "execution_count": 191,
   "id": "12cc0690",
   "metadata": {},
   "outputs": [
    {
     "data": {
      "text/plain": [
       "0.615463166096504"
      ]
     },
     "execution_count": 191,
     "metadata": {},
     "output_type": "execute_result"
    }
   ],
   "source": [
    "cv.best_score_"
   ]
  },
  {
   "cell_type": "code",
   "execution_count": 192,
   "id": "16bde73a",
   "metadata": {},
   "outputs": [
    {
     "data": {
      "text/plain": [
       "['/Users/sarahalbadri/Desktop/Banking Dataset/partitioned dataset/TomekLinks/models/mdl35_train_features_tl_clean_cap_tran_features_reduced_RF.pkl']"
      ]
     },
     "execution_count": 192,
     "metadata": {},
     "output_type": "execute_result"
    }
   ],
   "source": [
    "# write our pickled model\n",
    "joblib.dump(cv.best_estimator_,'.../.../.../.../Banking /TomekLinks/models/mdl35_train_features_tl_clean_cap_tran_features_reduced_RF.pkl')"
   ]
  },
  {
   "cell_type": "markdown",
   "id": "1cd0c0ef",
   "metadata": {},
   "source": [
    "# <font color =Green> Voting Classifier "
   ]
  },
  {
   "cell_type": "code",
   "execution_count": 2,
   "id": "a48c14c7",
   "metadata": {},
   "outputs": [],
   "source": [
    "vc = VotingClassifier(\n",
    "    estimators= [('lr', LogisticRegression()), ('rf',RandomForestClassifier()),('gnb',GaussianNB())],\n",
    "    voting='soft'\n",
    "                    )"
   ]
  },
  {
   "cell_type": "code",
   "execution_count": null,
   "id": "eb67edef",
   "metadata": {
    "scrolled": true
   },
   "outputs": [],
   "source": [
    "vc.get_params()"
   ]
  },
  {
   "cell_type": "markdown",
   "id": "68ca6a59",
   "metadata": {},
   "source": [
    "# Original Features"
   ]
  },
  {
   "cell_type": "code",
   "execution_count": 195,
   "id": "853251e7",
   "metadata": {},
   "outputs": [],
   "source": [
    "train_features_tl_original_features= pd.read_csv(\".../.../.../.../TomekLinks/feature selection/train_features_tl_original_features.csv\")\n",
    "train_labels_tl= pd.read_csv(\".../.../.../.../TomekLinks/train_labels_tl.csv\")"
   ]
  },
  {
   "cell_type": "code",
   "execution_count": null,
   "id": "8466b5ad",
   "metadata": {
    "scrolled": true
   },
   "outputs": [],
   "source": [
    "# Conduct search for best params while running cross-validation (GridSearchCV)\n",
    "scoring ={\"F1\":\"f1\", \"AUC\":make_scorer(roc_auc_score)}\n",
    "\n",
    "parameters = {\n",
    "    'lr__C': [0.1, 1, 10],# parameter 1 to be tuned, default = 1\n",
    "    #'lr__tol':[0.001,0.0001,0.00001],\n",
    "    'lr__solver':['saga'],\n",
    "    'lr__max_iter': [100,200,400,800],\n",
    "    'rf__n_estimators': [100,200,400,500],\n",
    "    'rf__bootstrap': [True, False]\n",
    "    \n",
    "}\n",
    "    \n",
    "cv = GridSearchCV(vc, parameters, cv=5, verbose=3, scoring=scoring,refit=\"AUC\")# five fold cross validation\n",
    "cv.fit(train_features_tl_original_features, train_labels_tl.values.ravel())#.ravel to convert to array gets error otherwise"
   ]
  },
  {
   "cell_type": "code",
   "execution_count": 197,
   "id": "dd103d59",
   "metadata": {},
   "outputs": [
    {
     "data": {
      "text/plain": [
       "VotingClassifier(estimators=[('lr', LogisticRegression(C=1, solver='saga')),\n",
       "                             ('rf', RandomForestClassifier()),\n",
       "                             ('gnb', GaussianNB())],\n",
       "                 voting='soft')"
      ]
     },
     "execution_count": 197,
     "metadata": {},
     "output_type": "execute_result"
    }
   ],
   "source": [
    "cv.best_estimator_"
   ]
  },
  {
   "cell_type": "code",
   "execution_count": 198,
   "id": "07dce5b7",
   "metadata": {},
   "outputs": [
    {
     "data": {
      "text/plain": [
       "0.633016454533276"
      ]
     },
     "execution_count": 198,
     "metadata": {},
     "output_type": "execute_result"
    }
   ],
   "source": [
    "cv.best_score_"
   ]
  },
  {
   "cell_type": "code",
   "execution_count": 199,
   "id": "15a5d26a",
   "metadata": {},
   "outputs": [
    {
     "data": {
      "text/plain": [
       "['/Users/sarahalbadri/Desktop/Banking Dataset/partitioned dataset/TomekLinks/models/mdl36_train_features_tl_original_features_VC.pkl']"
      ]
     },
     "execution_count": 199,
     "metadata": {},
     "output_type": "execute_result"
    }
   ],
   "source": [
    "# write our pickled model\n",
    "joblib.dump(cv.best_estimator_,'.../.../.../.../TomekLinks/models/mdl36_train_features_tl_original_features_VC.pkl')"
   ]
  },
  {
   "cell_type": "markdown",
   "id": "b0112f55",
   "metadata": {},
   "source": [
    "# Original Reduced"
   ]
  },
  {
   "cell_type": "code",
   "execution_count": 4,
   "id": "b3187acb",
   "metadata": {},
   "outputs": [],
   "source": [
    "train_features_tl_original_reduced= pd.read_csv(\".../.../.../.../TomekLinks/feature selection/train_features_tl_original_reduced.csv\")\n",
    "train_labels_tl= pd.read_csv(\".../.../.../.../TomekLinks/train_labels_tl.csv\")"
   ]
  },
  {
   "cell_type": "code",
   "execution_count": null,
   "id": "88aeb9b5",
   "metadata": {
    "scrolled": true
   },
   "outputs": [],
   "source": [
    "scoring ={\"F1\":\"f1\",\"AUC\":make_scorer(roc_auc_score)}\n",
    "parameters = {\n",
    "    'lr__C': [0.1, 1, 10],# parameter 1 to be tuned, default = 1\n",
    "    #'lr__tol':[0.001,0.0001,0.00001],\n",
    "    'lr__solver':['saga'],\n",
    "    'lr__max_iter': [100,200,400,800],\n",
    "    'rf__n_estimators': [100,200,400,500],\n",
    "    'rf__bootstrap': [True, False]\n",
    "}\n",
    "cv = GridSearchCV(vc, parameters, cv=5, verbose=3, scoring=scoring,refit=\"AUC\")# five fold cross validation\n",
    "cv.fit(train_features_tl_original_reduced, train_labels_tl.values.ravel())#.ravel to convert to array gets error otherwise"
   ]
  },
  {
   "cell_type": "code",
   "execution_count": 6,
   "id": "6b6e4e16",
   "metadata": {},
   "outputs": [
    {
     "data": {
      "text/plain": [
       "VotingClassifier(estimators=[('lr',\n",
       "                              LogisticRegression(C=10, max_iter=200,\n",
       "                                                 solver='saga')),\n",
       "                             ('rf', RandomForestClassifier()),\n",
       "                             ('gnb', GaussianNB())],\n",
       "                 voting='soft')"
      ]
     },
     "execution_count": 6,
     "metadata": {},
     "output_type": "execute_result"
    }
   ],
   "source": [
    "cv.best_estimator_"
   ]
  },
  {
   "cell_type": "code",
   "execution_count": 7,
   "id": "2f136556",
   "metadata": {},
   "outputs": [
    {
     "data": {
      "text/plain": [
       "0.6179253522911843"
      ]
     },
     "execution_count": 7,
     "metadata": {},
     "output_type": "execute_result"
    }
   ],
   "source": [
    "cv.best_score_"
   ]
  },
  {
   "cell_type": "code",
   "execution_count": 8,
   "id": "b22c0013",
   "metadata": {},
   "outputs": [
    {
     "data": {
      "text/plain": [
       "['/Users/sarahalbadri/Desktop/Banking Dataset/partitioned dataset/TomekLinks/models/mdl37_train_features_tl_original_reduced_VC.pkl']"
      ]
     },
     "execution_count": 8,
     "metadata": {},
     "output_type": "execute_result"
    }
   ],
   "source": [
    "# write our pickled model\n",
    "joblib.dump(cv.best_estimator_,'.../.../.../.../TomekLinks/models/mdl37_train_features_tl_original_reduced_VC.pkl')"
   ]
  },
  {
   "cell_type": "markdown",
   "id": "40a3583e",
   "metadata": {},
   "source": [
    "# Clean Capped Features"
   ]
  },
  {
   "cell_type": "code",
   "execution_count": 9,
   "id": "908e46b4",
   "metadata": {},
   "outputs": [],
   "source": [
    "train_features_tl_clean_capped_features = pd.read_csv(\".../.../.../.../TomekLinks/feature selection/train_features_tl_clean_capped_features.csv\")\n",
    "train_labels_tl= pd.read_csv(\".../.../.../.../TomekLinks/train_labels_tl.csv\")"
   ]
  },
  {
   "cell_type": "code",
   "execution_count": null,
   "id": "961b3556",
   "metadata": {
    "scrolled": true
   },
   "outputs": [],
   "source": [
    "scoring ={\"F1\":\"f1\", \"AUC\":make_scorer(roc_auc_score)}\n",
    "parameters = {\n",
    "    'lr__C': [0.1, 1, 10],# parameter 1 to be tuned, default = 1\n",
    "    #'lr__tol':[0.001,0.0001,0.00001],\n",
    "    'lr__solver':['saga'],\n",
    "    'lr__max_iter': [100,200,400,800],\n",
    "    'rf__n_estimators': [100,200,400,500],\n",
    "    'rf__bootstrap': [True, False]\n",
    "}\n",
    "cv = GridSearchCV(vc, parameters, cv=5, verbose=3, scoring=scoring,refit=\"AUC\")# five fold cross validation\n",
    "cv.fit(train_features_tl_clean_capped_features, train_labels_tl.values.ravel())#.ravel to convert to array gets error otherwisetrain_features_sm_clean_capped_features"
   ]
  },
  {
   "cell_type": "code",
   "execution_count": 11,
   "id": "1777c945",
   "metadata": {},
   "outputs": [
    {
     "data": {
      "text/plain": [
       "VotingClassifier(estimators=[('lr',\n",
       "                              LogisticRegression(C=0.1, max_iter=800,\n",
       "                                                 solver='saga')),\n",
       "                             ('rf', RandomForestClassifier(bootstrap=False)),\n",
       "                             ('gnb', GaussianNB())],\n",
       "                 voting='soft')"
      ]
     },
     "execution_count": 11,
     "metadata": {},
     "output_type": "execute_result"
    }
   ],
   "source": [
    "cv.best_estimator_"
   ]
  },
  {
   "cell_type": "code",
   "execution_count": 12,
   "id": "76f2cdd5",
   "metadata": {},
   "outputs": [
    {
     "data": {
      "text/plain": [
       "0.6680082658407022"
      ]
     },
     "execution_count": 12,
     "metadata": {},
     "output_type": "execute_result"
    }
   ],
   "source": [
    "cv.best_score_"
   ]
  },
  {
   "cell_type": "code",
   "execution_count": 13,
   "id": "da74f5c5",
   "metadata": {},
   "outputs": [
    {
     "data": {
      "text/plain": [
       "['/Users/sarahalbadri/Desktop/Banking Dataset/partitioned dataset/TomekLinks/models/mdl38_train_features_tl_clean_capped_features_VC.pkl']"
      ]
     },
     "execution_count": 13,
     "metadata": {},
     "output_type": "execute_result"
    }
   ],
   "source": [
    "# write our pickled model\n",
    "joblib.dump(cv.best_estimator_,'.../.../.../.../TomekLinks/models/mdl38_train_features_tl_clean_capped_features_VC.pkl')"
   ]
  },
  {
   "cell_type": "markdown",
   "id": "4ff545a2",
   "metadata": {},
   "source": [
    "# clean transformed features"
   ]
  },
  {
   "cell_type": "code",
   "execution_count": 14,
   "id": "ed54f62a",
   "metadata": {},
   "outputs": [],
   "source": [
    "train_features_tl_clean_trans_features= pd.read_csv(\".../.../.../.../ing Dataset/partitioned dataset/TomekLinks/feature selection/train_features_tl_clean_trans_features.csv\")\n",
    "train_labels_tl= pd.read_csv(\".../.../.../.../TomekLinks/train_labels_tl.csv\")"
   ]
  },
  {
   "cell_type": "code",
   "execution_count": null,
   "id": "9c0e9dad",
   "metadata": {
    "scrolled": true
   },
   "outputs": [],
   "source": [
    "scoring ={\"F1\":\"f1\", \"AUC\":make_scorer(roc_auc_score)}\n",
    "parameters = {\n",
    "    'lr__C': [0.1, 1, 10],# parameter 1 to be tuned, default = 1\n",
    "    #'lr__tol':[0.001,0.0001,0.00001],\n",
    "    'lr__solver':['saga'],\n",
    "    'lr__max_iter': [100,200,400,800],\n",
    "    'rf__n_estimators': [100,200,400,500],\n",
    "    'rf__bootstrap': [True, False]\n",
    "}\n",
    "\n",
    "cv = GridSearchCV(vc, parameters, cv=5, verbose=3, scoring=scoring,refit=\"AUC\")# five fold cross validation\n",
    "cv.fit(train_features_tl_clean_trans_features, train_labels_tl.values.ravel())#.ravel to convert to array gets error otherwise"
   ]
  },
  {
   "cell_type": "code",
   "execution_count": 16,
   "id": "5c66b5f9",
   "metadata": {},
   "outputs": [
    {
     "data": {
      "text/plain": [
       "VotingClassifier(estimators=[('lr',\n",
       "                              LogisticRegression(C=0.1, max_iter=200,\n",
       "                                                 solver='saga')),\n",
       "                             ('rf', RandomForestClassifier()),\n",
       "                             ('gnb', GaussianNB())],\n",
       "                 voting='soft')"
      ]
     },
     "execution_count": 16,
     "metadata": {},
     "output_type": "execute_result"
    }
   ],
   "source": [
    "cv.best_estimator_"
   ]
  },
  {
   "cell_type": "code",
   "execution_count": 17,
   "id": "b3727a1a",
   "metadata": {},
   "outputs": [
    {
     "data": {
      "text/plain": [
       "0.631714480301306"
      ]
     },
     "execution_count": 17,
     "metadata": {},
     "output_type": "execute_result"
    }
   ],
   "source": [
    "cv.best_score_"
   ]
  },
  {
   "cell_type": "code",
   "execution_count": 18,
   "id": "a3f3f18f",
   "metadata": {},
   "outputs": [
    {
     "data": {
      "text/plain": [
       "['/Users/sarahalbadri/Desktop/Banking Dataset/partitioned dataset/TomekLinks/models/mdl39_train_features_tl_clean_trans_features_VC.pkl']"
      ]
     },
     "execution_count": 18,
     "metadata": {},
     "output_type": "execute_result"
    }
   ],
   "source": [
    "# write our pickled model\n",
    "joblib.dump(cv.best_estimator_,'.../.../.../.../TomekLinks/models/mdl39_train_features_tl_clean_trans_features_VC.pkl')"
   ]
  },
  {
   "cell_type": "markdown",
   "id": "cd695dac",
   "metadata": {},
   "source": [
    "# Clean Transformed Features Reduced"
   ]
  },
  {
   "cell_type": "code",
   "execution_count": 19,
   "id": "90ef8c08",
   "metadata": {},
   "outputs": [],
   "source": [
    "train_features_tl_clean_trans_features_reduced = pd.read_csv(\" .../.../.../.../train_features_tl_clean_trans_features_reduced.csv\")\n",
    "train_labels_tl= pd.read_csv(\".../.../.../.../train_labels_tl.csv\")"
   ]
  },
  {
   "cell_type": "code",
   "execution_count": null,
   "id": "311fc79f",
   "metadata": {
    "scrolled": true
   },
   "outputs": [],
   "source": [
    "scoring ={\"F1\":\"f1\", \"AUC\":make_scorer(roc_auc_score)}\n",
    "parameters = {\n",
    "    'lr__C': [0.1, 1, 10],# parameter 1 to be tuned, default = 1\n",
    "    #'lr__tol':[0.001,0.0001,0.00001],\n",
    "    'lr__solver':['saga'],\n",
    "    'lr__max_iter': [100,200,400,800],\n",
    "    'rf__n_estimators': [100,200,400,500],\n",
    "    'rf__bootstrap': [True, False]\n",
    "}\n",
    "cv = GridSearchCV(vc, parameters, cv=5, verbose=3, scoring=scoring,refit=\"AUC\")# five fold cross validation\n",
    "cv.fit(train_features_tl_clean_trans_features_reduced, train_labels_tl.values.ravel())#.ravel to convert to array gets error otherwise"
   ]
  },
  {
   "cell_type": "code",
   "execution_count": 21,
   "id": "bec3827b",
   "metadata": {},
   "outputs": [
    {
     "data": {
      "text/plain": [
       "VotingClassifier(estimators=[('lr',\n",
       "                              LogisticRegression(C=0.1, max_iter=800,\n",
       "                                                 solver='saga')),\n",
       "                             ('rf',\n",
       "                              RandomForestClassifier(bootstrap=False,\n",
       "                                                     n_estimators=400)),\n",
       "                             ('gnb', GaussianNB())],\n",
       "                 voting='soft')"
      ]
     },
     "execution_count": 21,
     "metadata": {},
     "output_type": "execute_result"
    }
   ],
   "source": [
    "cv.best_estimator_"
   ]
  },
  {
   "cell_type": "code",
   "execution_count": 22,
   "id": "36a0828e",
   "metadata": {},
   "outputs": [
    {
     "data": {
      "text/plain": [
       "0.6408667777009472"
      ]
     },
     "execution_count": 22,
     "metadata": {},
     "output_type": "execute_result"
    }
   ],
   "source": [
    "cv.best_score_"
   ]
  },
  {
   "cell_type": "code",
   "execution_count": 23,
   "id": "a1ced7bb",
   "metadata": {},
   "outputs": [
    {
     "data": {
      "text/plain": [
       "['/Users/sarahalbadri/Desktop/Banking Dataset/partitioned dataset/TomekLinks/models/mdl40_train_features_tl_clean_trans_features_reduced_VC.pkl']"
      ]
     },
     "execution_count": 23,
     "metadata": {},
     "output_type": "execute_result"
    }
   ],
   "source": [
    "# write our pickled model\n",
    "joblib.dump(cv.best_estimator_,'.../.../.../.../TomekLinks/models/mdl40_train_features_tl_clean_trans_features_reduced_VC.pkl')"
   ]
  },
  {
   "cell_type": "markdown",
   "id": "cbf0b40d",
   "metadata": {},
   "source": [
    "# Clean Capped Transformed Features"
   ]
  },
  {
   "cell_type": "code",
   "execution_count": 24,
   "id": "be54f7f2",
   "metadata": {},
   "outputs": [],
   "source": [
    "train_features_tl_clean_cap_tran_features= pd.read_csv(\".../.../.../.../feature selection/train_features_tl_clean_cap_tran_features.csv\")\n",
    "train_labels_tl= pd.read_csv(\".../.../.../.../TomekLinks/train_labels_tl.csv\")"
   ]
  },
  {
   "cell_type": "code",
   "execution_count": null,
   "id": "079dbee1",
   "metadata": {
    "scrolled": true
   },
   "outputs": [],
   "source": [
    "scoring ={\"F1\":\"f1\", \"AUC\":make_scorer(roc_auc_score)}\n",
    "parameters = {\n",
    "    'lr__C': [0.1, 1, 10],# parameter 1 to be tuned, default = 1\n",
    "    #'lr__tol':[0.001,0.0001,0.00001],\n",
    "    'lr__solver':['saga'],\n",
    "    'lr__max_iter': [100,200,400,800],\n",
    "    'rf__n_estimators': [100,200,400,500],\n",
    "    'rf__bootstrap': [True, False]\n",
    "}\n",
    "cv = GridSearchCV(vc, parameters, cv=5, verbose=3, scoring=scoring,refit=\"AUC\")# five fold cross validation\n",
    "cv.fit(train_features_tl_clean_cap_tran_features, train_labels_tl.values.ravel())#.ravel to convert to array gets error otherwisetrain_features_sm_clean_cap_tran_features"
   ]
  },
  {
   "cell_type": "code",
   "execution_count": 26,
   "id": "7130f397",
   "metadata": {},
   "outputs": [
    {
     "data": {
      "text/plain": [
       "VotingClassifier(estimators=[('lr',\n",
       "                              LogisticRegression(C=0.1, max_iter=200,\n",
       "                                                 solver='saga')),\n",
       "                             ('rf', RandomForestClassifier()),\n",
       "                             ('gnb', GaussianNB())],\n",
       "                 voting='soft')"
      ]
     },
     "execution_count": 26,
     "metadata": {},
     "output_type": "execute_result"
    }
   ],
   "source": [
    "cv.best_estimator_"
   ]
  },
  {
   "cell_type": "code",
   "execution_count": 27,
   "id": "c021bb98",
   "metadata": {},
   "outputs": [
    {
     "data": {
      "text/plain": [
       "0.6383180762846139"
      ]
     },
     "execution_count": 27,
     "metadata": {},
     "output_type": "execute_result"
    }
   ],
   "source": [
    "cv.best_score_"
   ]
  },
  {
   "cell_type": "code",
   "execution_count": 28,
   "id": "d331bf40",
   "metadata": {},
   "outputs": [
    {
     "data": {
      "text/plain": [
       "['/Users/sarahalbadri/Desktop/Banking Dataset/partitioned dataset/TomekLinks/models/mdl41_train_features_tl_clean_cap_tran_features_VC.pkl']"
      ]
     },
     "execution_count": 28,
     "metadata": {},
     "output_type": "execute_result"
    }
   ],
   "source": [
    "# write our pickled model\n",
    "joblib.dump(cv.best_estimator_,'.../.../.../.../TomekLinks/models/mdl41_train_features_tl_clean_cap_tran_features_VC.pkl')"
   ]
  },
  {
   "cell_type": "markdown",
   "id": "e59a1e69",
   "metadata": {},
   "source": [
    "# Clean Cap Trans Features Reduced"
   ]
  },
  {
   "cell_type": "code",
   "execution_count": 29,
   "id": "384079f7",
   "metadata": {},
   "outputs": [],
   "source": [
    "train_features_tl_clean_cap_tran_features_reduced= pd.read_csv(\"/.../.../.../.../TomekLinks/feature selection/train_features_tl_clean_cap_tran_features_reduced.csv\")\n",
    "train_labels_tl= pd.read_csv(\".../.../.../.../TomekLinks/train_labels_tl.csv\")"
   ]
  },
  {
   "cell_type": "code",
   "execution_count": null,
   "id": "22e10966",
   "metadata": {
    "scrolled": true
   },
   "outputs": [],
   "source": [
    "scoring ={\"F1\":\"f1\", \"AUC\":make_scorer(roc_auc_score)}\n",
    "parameters = {\n",
    "   'lr__C': [0.1, 1, 10],# parameter 1 to be tuned, default = 1\n",
    "    #'lr__tol':[0.001,0.0001,0.00001],\n",
    "    'lr__solver':['saga'],\n",
    "    'lr__max_iter': [100,200,400,800],\n",
    "    'rf__n_estimators': [100,200,400,500],\n",
    "    'rf__bootstrap': [True, False]\n",
    "}\n",
    "cv = GridSearchCV(vc, parameters, cv=5, verbose=3, scoring=scoring,refit=\"AUC\")# five fold cross validation\n",
    "cv.fit(train_features_tl_clean_cap_tran_features_reduced, train_labels_tl.values.ravel())#.ravel to convert to array gets error otherwise"
   ]
  },
  {
   "cell_type": "code",
   "execution_count": 31,
   "id": "50056313",
   "metadata": {},
   "outputs": [
    {
     "data": {
      "text/plain": [
       "VotingClassifier(estimators=[('lr',\n",
       "                              LogisticRegression(C=1, max_iter=800,\n",
       "                                                 solver='saga')),\n",
       "                             ('rf', RandomForestClassifier(bootstrap=False)),\n",
       "                             ('gnb', GaussianNB())],\n",
       "                 voting='soft')"
      ]
     },
     "execution_count": 31,
     "metadata": {},
     "output_type": "execute_result"
    }
   ],
   "source": [
    "cv.best_estimator_"
   ]
  },
  {
   "cell_type": "code",
   "execution_count": 32,
   "id": "d5ed44c8",
   "metadata": {},
   "outputs": [
    {
     "data": {
      "text/plain": [
       "0.6394531612373874"
      ]
     },
     "execution_count": 32,
     "metadata": {},
     "output_type": "execute_result"
    }
   ],
   "source": [
    "cv.best_score_"
   ]
  },
  {
   "cell_type": "code",
   "execution_count": 33,
   "id": "bf352c5a",
   "metadata": {},
   "outputs": [
    {
     "data": {
      "text/plain": [
       "['/Users/sarahalbadri/Desktop/Banking Dataset/partitioned dataset/TomekLinks/models/mdl42_train_features_tl_clean_cap_tran_features_reduced_VC.pkl']"
      ]
     },
     "execution_count": 33,
     "metadata": {},
     "output_type": "execute_result"
    }
   ],
   "source": [
    "# write our pickled model\n",
    "joblib.dump(cv.best_estimator_,'.../.../.../.../TomekLinks/models/mdl42_train_features_tl_clean_cap_tran_features_reduced_VC.pkl')"
   ]
  },
  {
   "cell_type": "markdown",
   "id": "e9987f33",
   "metadata": {},
   "source": [
    "# Evaluating the modesl on validation set"
   ]
  },
  {
   "cell_type": "code",
   "execution_count": 2,
   "id": "173b99e6",
   "metadata": {},
   "outputs": [],
   "source": [
    "# Validation sets\n",
    "val_label_tl= pd.read_csv(\".../.../.../.../TomekLinks/val_labels_tl.csv\")\n",
    "# reading original features with no cleaning \n",
    "val_original_tl= pd.read_csv(\".../.../.../.../TomekLinks/feature selection/val_features_tl_original_features.csv\")\n",
    "\n",
    "\n",
    "# reading original_reduced: drop feature that I suspect it degrades the performance of my model\n",
    "val_orig_reduced_tl= pd.read_csv(\".../.../.../.../TomekLinks/feature selection/val_features_tl_original_reduced.csv\")\n",
    "\n",
    "\n",
    "# reading clean capped features: contain of capped features\n",
    "val_clean_cap_tl = pd.read_csv(\".../.../.../.../TomekLinks/feature selection/val_features_tl_clean_capped_features.csv\")\n",
    "\n",
    "\n",
    "# reading features contain transoformed features \n",
    "val_clean_tran_tl = pd.read_csv(\".../.../.../.../TomekLinks/feature selection/val_features_tl_clean_trans_features.csv\")\n",
    "\n",
    "\n",
    "\n",
    "# reading clean_trans_features_reduced : drop pdays and previous, month\n",
    "val_clean_tran_reduced_tl = pd.read_csv(\".../.../.../.../TomekLinks/feature selection/val_features_tl_clean_trans_features_reduced.csv\")\n",
    "\n",
    "\n",
    "# reading clean_cap_tran_features contain features that I capped then transformed \n",
    "val_clean_cap_tran_tl = pd.read_csv(\".../.../.../.../TomekLinks/feature selection/val_features_tl_clean_cap_tran_features.csv\")\n",
    "\n",
    "\n",
    "# reading  clean_cap_tran_reduced_features contain features that I capped then transformed \n",
    "val_clean_cap_tran_reduced_tl = pd.read_csv(\".../.../.../.../TomekLinks/feature selection/val_features_tl_clean_cap_tran_features_reduced.csv\")\n"
   ]
  },
  {
   "cell_type": "code",
   "execution_count": 3,
   "id": "470323b8",
   "metadata": {},
   "outputs": [],
   "source": [
    "# lets read in our model\n",
    "models={}\n",
    "\n",
    "for mdl in [\n",
    "    '1_train_features_tl_original_features_LR','2_train_features_tl_original_reduced_LR','3_train_features_tl_clean_capped_features_LR' ,'4_train_features_tl_clean_trans_features_LR' ,'5_train_features_tl_clean_trans_features_reduced_LR' ,'6_train_features_tl_clean_cap_tran_features_LR' ,'7_train_features_tl_clean_cap_tran_features_reduced_LR' ,'8_train_features_tl_original_features_SVM' ,'9_train_features_tl_original_reduced_SVM' ,'10_train_features_tl_clean_capped_features_SVM'\n",
    "    ,'11_train_features_tl_clean_trans_features_SVM' ,'12_train_features_tl_clean_trans_features_reduced_SVM' ,'13_train_features_tl_clean_cap_tran_features_SVM' ,'14_train_features_tl_clean_cap_tran_features_reduced_SVM' ,'15_train_features_tl_original_features_DT' ,'16_train_features_tl_original_reduced_DT' ,'17_train_features_tl_clean_capped_features_DT' ,'18_train_features_tl_clean_trans_features_DT' ,'19_train_features_tl_clean_trans_features_reduced_DT' ,'20_train_features_tl_clean_cap_tran_features_DT'\n",
    "    ,'21_train_features_tl_clean_cap_tran_features_reduced_DT' ,'22_train_features_tl_original_features_HGB' ,'23_train_features_tl_original_reduced_HGB' ,'24_train_features_tl_clean_capped_features_HGB' ,'25_train_features_tl_clean_trans_features_HGB' ,'26_train_features_tl_clean_trans_features_reduced_HGB' ,'27_train_features_tl_clean_cap_tran_features_HGB' ,'28_train_features_tl_clean_cap_tran_features_reduced_HGB' ,'29_train_features_tl_original_features_RF' ,'30_train_features_tl_original_reduced_RF'\n",
    "    ,'31_train_features_tl_clean_capped_features_RF' ,'32_train_features_tl_clean_trans_features_RF' ,'33_train_features_tl_clean_trans_features_reduced_RF' ,'34_train_features_tl_clean_cap_tran_features_RF' ,'35_train_features_tl_clean_cap_tran_features_reduced_RF' ,'36_train_features_tl_original_features_VC' ,'37_train_features_tl_original_reduced_VC' ,'38_train_features_tl_clean_capped_features_VC' ,'39_train_features_tl_clean_trans_features_VC', '40_train_features_tl_clean_trans_features_reduced_VC'\n",
    "    ,'41_train_features_tl_clean_cap_tran_features_VC' ,'42_train_features_tl_clean_cap_tran_features_reduced_VC']:\n",
    "    models[mdl]=joblib.load(\".../.../.../.../TomekLinks/models/mdl{}.pkl\".format(mdl))\n",
    "\n"
   ]
  },
  {
   "cell_type": "code",
   "execution_count": 4,
   "id": "b7393ed7",
   "metadata": {},
   "outputs": [],
   "source": [
    "# define fun to evalute our models\n",
    "highest_RocAuc_score=[]\n",
    "def model_evaluation(name, model, features, labels):\n",
    "    start = time()\n",
    "    pred = model.predict(features)\n",
    "    end = time()\n",
    "    accuracy = round(accuracy_score(labels, pred), 3)\n",
    "    precision = round(precision_score(labels, pred), 3)\n",
    "    recall = round(recall_score(labels, pred), 3)\n",
    "    f_one = round(f1_score(labels, pred),3)\n",
    "    ROC_AUC = round(roc_auc_score(labels, pred),3)\n",
    "    highest_RocAuc_score.append(f'{ROC_AUC} {(name)}')\n",
    "    print(f'{name}\\n Accuracy: {accuracy} / Precision: {precision} / Recall: {recall} /F1 Score:{f_one} /ROC AUC: {ROC_AUC}/ Latency: {round((end - start)*1000, 1)}ms')\n",
    "     "
   ]
  },
  {
   "cell_type": "code",
   "execution_count": null,
   "id": "96a91e07",
   "metadata": {
    "scrolled": true
   },
   "outputs": [],
   "source": [
    "model_evaluation('Original Features Logistic_Regression', models['1_train_features_tl_original_features_LR'],val_original_tl, val_label_tl) \n",
    "model_evaluation('Original Reduced Logistic_Regression', models['2_train_features_tl_original_reduced_LR'],val_orig_reduced_tl, val_label_tl) \n",
    "model_evaluation('Clean Capped Features Logistic_Regression', models['3_train_features_tl_clean_capped_features_LR'],val_clean_cap_tl, val_label_tl)\n",
    "model_evaluation('Clean Transformed Features Logistic_Regression', models['4_train_features_tl_clean_trans_features_LR'],val_clean_tran_tl ,val_label_tl) \n",
    "model_evaluation('Clean Transformed Features Reduced Logistic_Regression', models['5_train_features_tl_clean_trans_features_reduced_LR'],val_clean_tran_reduced_tl,val_label_tl)\n",
    "model_evaluation('Clean capped Transformed Features Logistic_Regression', models['6_train_features_tl_clean_cap_tran_features_LR'],val_clean_cap_tran_tl ,val_label_tl)\n",
    "model_evaluation('Clean Capped Transformed Reduced Features Logistic_Regression', models['7_train_features_tl_clean_cap_tran_features_reduced_LR'],val_clean_cap_tran_reduced_tl,val_label_tl) \n",
    "\n",
    "model_evaluation('Original Features SVM',models['8_train_features_tl_original_features_SVM'],val_original_tl,val_label_tl)           \n",
    "model_evaluation('Original Reduced Features SVM',models['9_train_features_tl_original_reduced_SVM'],val_orig_reduced_tl,val_label_tl)\n",
    "model_evaluation('Clean Capped Features SVM', models['10_train_features_tl_clean_capped_features_SVM'],val_clean_cap_tl,val_label_tl) \n",
    "model_evaluation('Clean Transformed Features SVM', models['11_train_features_tl_clean_trans_features_SVM'],val_clean_tran_tl, val_label_tl) \n",
    "model_evaluation('Clean Transformed Features Reduced SVM', models['12_train_features_tl_clean_trans_features_reduced_SVM'],val_clean_tran_reduced_tl, val_label_tl)\n",
    "model_evaluation('Clean capped Transformed Features SVM', models['13_train_features_tl_clean_cap_tran_features_SVM'],val_clean_cap_tran_tl ,val_label_tl) \n",
    "model_evaluation('Clean Capped Transformed Reduced Features SVM', models['14_train_features_tl_clean_cap_tran_features_reduced_SVM'],val_clean_cap_tran_reduced_tl, val_label_tl)\n",
    "\n",
    "model_evaluation('Original Features  Decision Tree', models['15_train_features_tl_original_features_DT'],val_original_tl, val_label_tl)\n",
    "model_evaluation('Original Reduced  Decision Tree', models['16_train_features_tl_original_reduced_DT'],val_orig_reduced_tl, val_label_tl) \n",
    "model_evaluation('Clean Capped Features Decision Tree',models['17_train_features_tl_clean_capped_features_DT'],val_clean_cap_tl, val_label_tl)           \n",
    "model_evaluation('Clean Transformed Features Decision Tree',models['18_train_features_tl_clean_trans_features_DT'],val_clean_tran_tl, val_label_tl)\n",
    "model_evaluation('Clean Transformed Features Reduced Decision Tree', models['19_train_features_tl_clean_trans_features_reduced_DT'],val_clean_tran_reduced_tl,val_label_tl) \n",
    "model_evaluation('Clean capped Transformed Features Decision Tree', models['20_train_features_tl_clean_cap_tran_features_DT'],val_clean_cap_tran_tl,val_label_tl) \n",
    "model_evaluation('Clean Capped Transformed Reduced Features Decision Tree', models['21_train_features_tl_clean_cap_tran_features_reduced_DT'],val_clean_cap_tran_reduced_tl,val_label_tl)\n",
    "\n",
    "model_evaluation('Original Features Histogram Gradient Boosting', models['22_train_features_tl_original_features_HGB'],val_original_tl,val_label_tl) \n",
    "model_evaluation('Original Reduced Features Histogram Gradient Boosting', models['23_train_features_tl_original_reduced_HGB'],val_orig_reduced_tl,val_label_tl)\n",
    "model_evaluation('Clean Capped Features Histogram Gradient Boosting', models['24_train_features_tl_clean_capped_features_HGB'],val_clean_cap_tl,val_label_tl)\n",
    "model_evaluation('Clean Transformed Features Histogram Gradient Boosting', models['25_train_features_tl_clean_trans_features_HGB'],val_clean_tran_tl, val_label_tl) \n",
    "model_evaluation('Clean Transformed Features Reduced Histogram Gradient Boosting',models['26_train_features_tl_clean_trans_features_reduced_HGB'],val_clean_tran_reduced_tl,val_label_tl)           \n",
    "model_evaluation('Clean capped Transformed Features Histogram Gradient Boosting',models['27_train_features_tl_clean_cap_tran_features_HGB'],val_clean_cap_tran_tl,val_label_tl)\n",
    "model_evaluation('Clean Capped Transformed Reduced Features Histogram Gradient Boosting', models['28_train_features_tl_clean_cap_tran_features_reduced_HGB'],val_clean_cap_tran_reduced_tl,val_label_tl)\n",
    "\n",
    "model_evaluation('Original Features Random Forest', models['29_train_features_tl_original_features_RF'],val_original_tl,val_label_tl) \n",
    "model_evaluation('Original Reduced Features  Random Forest', models['30_train_features_tl_original_reduced_RF'],val_orig_reduced_tl,val_label_tl)\n",
    "model_evaluation('Clean Capped Features  Random Forest', models['31_train_features_tl_clean_capped_features_RF'],val_clean_cap_tl,val_label_tl)\n",
    "model_evaluation('Clean Transformed Features  Random Forest', models['32_train_features_tl_clean_trans_features_RF'],val_clean_tran_tl,val_label_tl) \n",
    "model_evaluation('Clean Transformed Features Reduced  Random Forest',models['33_train_features_tl_clean_trans_features_reduced_RF'],val_clean_tran_reduced_tl ,val_label_tl)           \n",
    "model_evaluation('Clean capped Transformed Features  Random Forest',models['34_train_features_tl_clean_cap_tran_features_RF'],val_clean_cap_tran_tl,val_label_tl)\n",
    "model_evaluation('Clean Capped Transformed Reduced Features  Random Forest', models['35_train_features_tl_clean_cap_tran_features_reduced_RF'],val_clean_cap_tran_reduced_tl,val_label_tl)\n",
    "\n",
    "model_evaluation('Original Features Voting Classifier', models['36_train_features_tl_original_features_VC'],val_original_tl,val_label_tl) \n",
    "model_evaluation('Original Reduced Features Voting Classifier', models['37_train_features_tl_original_reduced_VC'],val_orig_reduced_tl,val_label_tl)\n",
    "model_evaluation('Clean Capped Features Voting Classifier', models['38_train_features_tl_clean_capped_features_VC'],val_clean_cap_tl,val_label_tl)\n",
    "model_evaluation('Clean Transformed Features Voting Classifier', models['39_train_features_tl_clean_trans_features_VC'],val_clean_tran_tl,val_label_tl) \n",
    "model_evaluation('Clean Transformed Features Reduced Voting Classifier',models['40_train_features_tl_clean_trans_features_reduced_VC'],val_clean_tran_reduced_tl,val_label_tl)           \n",
    "model_evaluation('Clean capped Transformed Features Voting Classifier',models['41_train_features_tl_clean_cap_tran_features_VC'],val_clean_cap_tran_tl ,val_label_tl)\n",
    "model_evaluation('Clean Capped Transformed Reduced Features Voting Classifier', models['42_train_features_tl_clean_cap_tran_features_reduced_VC'],val_clean_cap_tran_reduced_tl,val_label_tl)\n",
    "\n",
    "print(\"*********************************************\")\n",
    "print(f' Highest ROC AUC score : {max(highest_RocAuc_score)}')"
   ]
  },
  {
   "cell_type": "markdown",
   "id": "0f41072d",
   "metadata": {},
   "source": [
    "## <font color = Brown > Clean Capped Features Random Forest (Random Forest on Clean Capped Features) has achieved the best performance among other models</font>\n",
    "\n"
   ]
  },
  {
   "cell_type": "markdown",
   "id": "e2ac4bd3",
   "metadata": {},
   "source": [
    "# <font color = Green> Evaluate Best Performance Model on the Test set </font>"
   ]
  },
  {
   "cell_type": "code",
   "execution_count": 46,
   "id": "12d03cae",
   "metadata": {},
   "outputs": [],
   "source": [
    "test_clean_cap_tl = pd.read_csv(\".../.../.../.../TomekLinks/feature selection/test_features_tl_clean_capped_features.csv\")\n",
    "\n",
    "test_label_tl= pd.read_csv(\".../.../.../.../TomekLinks/test_labels_tl.csv\")\n",
    "\n"
   ]
  },
  {
   "cell_type": "code",
   "execution_count": 48,
   "id": "42b53073",
   "metadata": {},
   "outputs": [
    {
     "name": "stdout",
     "output_type": "stream",
     "text": [
      "Clean Capped Features Random Forest\n",
      " Accuracy: 0.992 / Precision: 0.964 / Recall: 0.974 /F1 Score:0.969 /ROC AUC: 0.984/ Latency: 242.2ms\n"
     ]
    }
   ],
   "source": [
    "# lets check how well does our model generalize by evaluating it on unseen and balanced test set(note that this test set was balanced using TomekLinks)\n",
    "model_evaluation('Clean Capped Features Random Forest', models['31_train_features_tl_clean_capped_features_RF'],test_clean_cap_tl,test_label_tl) \n"
   ]
  },
  {
   "cell_type": "code",
   "execution_count": null,
   "id": "218e86a7",
   "metadata": {},
   "outputs": [],
   "source": []
  },
  {
   "cell_type": "code",
   "execution_count": null,
   "id": "c0cfad72",
   "metadata": {},
   "outputs": [],
   "source": []
  },
  {
   "cell_type": "code",
   "execution_count": null,
   "id": "d6108c87",
   "metadata": {},
   "outputs": [],
   "source": []
  },
  {
   "cell_type": "code",
   "execution_count": null,
   "id": "a3658f48",
   "metadata": {},
   "outputs": [],
   "source": []
  }
 ],
 "metadata": {
  "kernelspec": {
   "display_name": "Python 3 (ipykernel)",
   "language": "python",
   "name": "python3"
  },
  "language_info": {
   "codemirror_mode": {
    "name": "ipython",
    "version": 3
   },
   "file_extension": ".py",
   "mimetype": "text/x-python",
   "name": "python",
   "nbconvert_exporter": "python",
   "pygments_lexer": "ipython3",
   "version": "3.8.2"
  }
 },
 "nbformat": 4,
 "nbformat_minor": 5
}
